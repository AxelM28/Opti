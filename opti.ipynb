{
 "cells": [
  {
   "cell_type": "markdown",
   "metadata": {},
   "source": [
    "# Importar librerías necesarias"
   ]
  },
  {
   "cell_type": "code",
   "execution_count": 86,
   "metadata": {},
   "outputs": [
    {
     "name": "stdout",
     "output_type": "stream",
     "text": [
      "Requirement already satisfied: pulp in c:\\users\\axelm\\anaconda3\\lib\\site-packages (2.8.0)\n",
      "Note: you may need to restart the kernel to use updated packages.\n"
     ]
    }
   ],
   "source": [
    "pip install pulp"
   ]
  },
  {
   "cell_type": "code",
   "execution_count": 87,
   "metadata": {},
   "outputs": [],
   "source": [
    "from pulp import LpStatus, LpProblem, LpVariable, lpSum, LpMaximize, value"
   ]
  },
  {
   "cell_type": "code",
   "execution_count": 88,
   "metadata": {},
   "outputs": [],
   "source": [
    "import random\n",
    "random.seed(7)"
   ]
  },
  {
   "cell_type": "markdown",
   "metadata": {},
   "source": [
    "# Lectura de la base de datos"
   ]
  },
  {
   "cell_type": "markdown",
   "metadata": {},
   "source": [
    "Aún no se cuenta con la base de datos que se utilizarán en el problema original, por lo que se han creado las diferentes variables necesarias con valores de prueba."
   ]
  },
  {
   "cell_type": "markdown",
   "metadata": {},
   "source": [
    "## Definición de conjuntos"
   ]
  },
  {
   "cell_type": "code",
   "execution_count": 89,
   "metadata": {},
   "outputs": [],
   "source": [
    "# Productos\n",
    "productos = ['A', 'B', 'C', 'D', 'E', 'F']"
   ]
  },
  {
   "cell_type": "code",
   "execution_count": 90,
   "metadata": {},
   "outputs": [],
   "source": [
    "# Periodos\n",
    "periodos = ['Enero', 'Febrero', 'Marzo', 'Abril', 'Mayo', 'Junio']"
   ]
  },
  {
   "cell_type": "code",
   "execution_count": 91,
   "metadata": {},
   "outputs": [],
   "source": [
    "# Clientes\n",
    "clientes = ['Cliente1', 'Cliente2']"
   ]
  },
  {
   "cell_type": "code",
   "execution_count": 92,
   "metadata": {},
   "outputs": [],
   "source": [
    "# Plantas\n",
    "plantas = ['Planta1', 'Planta2']"
   ]
  },
  {
   "cell_type": "code",
   "execution_count": 93,
   "metadata": {},
   "outputs": [],
   "source": [
    "# Proveedores\n",
    "proveedores = ['Proveedor1', 'Proveedor2']"
   ]
  },
  {
   "cell_type": "code",
   "execution_count": 94,
   "metadata": {},
   "outputs": [],
   "source": [
    "# Centros de distribución (CEDIS)\n",
    "cedis = ['CEDIS1', 'CEDIS2']"
   ]
  },
  {
   "cell_type": "markdown",
   "metadata": {},
   "source": [
    "## Definición de variables base"
   ]
  },
  {
   "cell_type": "code",
   "execution_count": 95,
   "metadata": {},
   "outputs": [],
   "source": [
    "# Capacidad de almacenamiento: ¿Cuántos productos es posible guardar en cada planta?\n",
    "capacidad_almacenaje = {'Planta1': 5000, 'Planta2': 8000}"
   ]
  },
  {
   "cell_type": "code",
   "execution_count": 96,
   "metadata": {},
   "outputs": [
    {
     "data": {
      "text/plain": [
       "{('A', 'Enero', 'Cliente1'): 665,\n",
       " ('A', 'Enero', 'Cliente2'): 985,\n",
       " ('A', 'Febrero', 'Cliente1'): 577,\n",
       " ('A', 'Febrero', 'Cliente2'): 702,\n",
       " ('A', 'Marzo', 'Cliente1'): 833,\n",
       " ('A', 'Marzo', 'Cliente2'): 524,\n",
       " ('A', 'Abril', 'Cliente1'): 537,\n",
       " ('A', 'Abril', 'Cliente2'): 920,\n",
       " ('A', 'Mayo', 'Cliente1'): 774,\n",
       " ('A', 'Mayo', 'Cliente2'): 548,\n",
       " ('A', 'Junio', 'Cliente1'): 687,\n",
       " ('A', 'Junio', 'Cliente2'): 798,\n",
       " ('B', 'Enero', 'Cliente1'): 529,\n",
       " ('B', 'Enero', 'Cliente2'): 965,\n",
       " ('B', 'Febrero', 'Cliente1'): 759,\n",
       " ('B', 'Febrero', 'Cliente2'): 609,\n",
       " ('B', 'Marzo', 'Cliente1'): 519,\n",
       " ('B', 'Marzo', 'Cliente2'): 544,\n",
       " ('B', 'Abril', 'Cliente1'): 722,\n",
       " ('B', 'Abril', 'Cliente2'): 714,\n",
       " ('B', 'Mayo', 'Cliente1'): 535,\n",
       " ('B', 'Mayo', 'Cliente2'): 623,\n",
       " ('B', 'Junio', 'Cliente1'): 546,\n",
       " ('B', 'Junio', 'Cliente2'): 782,\n",
       " ('C', 'Enero', 'Cliente1'): 717,\n",
       " ('C', 'Enero', 'Cliente2'): 530,\n",
       " ('C', 'Febrero', 'Cliente1'): 923,\n",
       " ('C', 'Febrero', 'Cliente2'): 789,\n",
       " ('C', 'Marzo', 'Cliente1'): 563,\n",
       " ('C', 'Marzo', 'Cliente2'): 985,\n",
       " ('C', 'Abril', 'Cliente1'): 614,\n",
       " ('C', 'Abril', 'Cliente2'): 822,\n",
       " ('C', 'Mayo', 'Cliente1'): 821,\n",
       " ('C', 'Mayo', 'Cliente2'): 798,\n",
       " ('C', 'Junio', 'Cliente1'): 985,\n",
       " ('C', 'Junio', 'Cliente2'): 531,\n",
       " ('D', 'Enero', 'Cliente1'): 795,\n",
       " ('D', 'Enero', 'Cliente2'): 799,\n",
       " ('D', 'Febrero', 'Cliente1'): 703,\n",
       " ('D', 'Febrero', 'Cliente2'): 525,\n",
       " ('D', 'Marzo', 'Cliente1'): 999,\n",
       " ('D', 'Marzo', 'Cliente2'): 613,\n",
       " ('D', 'Abril', 'Cliente1'): 523,\n",
       " ('D', 'Abril', 'Cliente2'): 785,\n",
       " ('D', 'Mayo', 'Cliente1'): 939,\n",
       " ('D', 'Mayo', 'Cliente2'): 568,\n",
       " ('D', 'Junio', 'Cliente1'): 648,\n",
       " ('D', 'Junio', 'Cliente2'): 714,\n",
       " ('E', 'Enero', 'Cliente1'): 573,\n",
       " ('E', 'Enero', 'Cliente2'): 776,\n",
       " ('E', 'Febrero', 'Cliente1'): 560,\n",
       " ('E', 'Febrero', 'Cliente2'): 792,\n",
       " ('E', 'Marzo', 'Cliente1'): 657,\n",
       " ('E', 'Marzo', 'Cliente2'): 786,\n",
       " ('E', 'Abril', 'Cliente1'): 917,\n",
       " ('E', 'Abril', 'Cliente2'): 849,\n",
       " ('E', 'Mayo', 'Cliente1'): 592,\n",
       " ('E', 'Mayo', 'Cliente2'): 552,\n",
       " ('E', 'Junio', 'Cliente1'): 797,\n",
       " ('E', 'Junio', 'Cliente2'): 792,\n",
       " ('F', 'Enero', 'Cliente1'): 827,\n",
       " ('F', 'Enero', 'Cliente2'): 596,\n",
       " ('F', 'Febrero', 'Cliente1'): 690,\n",
       " ('F', 'Febrero', 'Cliente2'): 549,\n",
       " ('F', 'Marzo', 'Cliente1'): 780,\n",
       " ('F', 'Marzo', 'Cliente2'): 864,\n",
       " ('F', 'Abril', 'Cliente1'): 532,\n",
       " ('F', 'Abril', 'Cliente2'): 788,\n",
       " ('F', 'Mayo', 'Cliente1'): 530,\n",
       " ('F', 'Mayo', 'Cliente2'): 816,\n",
       " ('F', 'Junio', 'Cliente1'): 605,\n",
       " ('F', 'Junio', 'Cliente2'): 754}"
      ]
     },
     "execution_count": 96,
     "metadata": {},
     "output_type": "execute_result"
    }
   ],
   "source": [
    "# Demanda por periodo de cada cliente de cada producto.\n",
    "\n",
    "demanda_cliente = {(pr, pe, c): random.randint(500, 1000) for pr in productos for pe in periodos for c in clientes}\n",
    "\n",
    "demanda_cliente"
   ]
  },
  {
   "cell_type": "code",
   "execution_count": 97,
   "metadata": {},
   "outputs": [
    {
     "data": {
      "text/plain": [
       "{('A', 'Planta1'): 20,\n",
       " ('A', 'Planta2'): 19,\n",
       " ('B', 'Planta1'): 18,\n",
       " ('B', 'Planta2'): 17,\n",
       " ('C', 'Planta1'): 18,\n",
       " ('C', 'Planta2'): 19,\n",
       " ('D', 'Planta1'): 18,\n",
       " ('D', 'Planta2'): 17,\n",
       " ('E', 'Planta1'): 17,\n",
       " ('E', 'Planta2'): 16,\n",
       " ('F', 'Planta1'): 16,\n",
       " ('F', 'Planta2'): 20}"
      ]
     },
     "execution_count": 97,
     "metadata": {},
     "output_type": "execute_result"
    }
   ],
   "source": [
    "# Costo de producción: ¿Cuánto cuesta producir cada uno de los productos?\n",
    "\n",
    "costo_produccion = {(p, pl): random.randint(15,20) for p in productos for pl in plantas}\n",
    "\n",
    "costo_produccion"
   ]
  },
  {
   "cell_type": "code",
   "execution_count": 98,
   "metadata": {},
   "outputs": [
    {
     "data": {
      "text/plain": [
       "{('A', 'Proveedor1'): 6,\n",
       " ('A', 'Proveedor2'): 5,\n",
       " ('B', 'Proveedor1'): 9,\n",
       " ('B', 'Proveedor2'): 7,\n",
       " ('C', 'Proveedor1'): 9,\n",
       " ('C', 'Proveedor2'): 8,\n",
       " ('D', 'Proveedor1'): 7,\n",
       " ('D', 'Proveedor2'): 10,\n",
       " ('E', 'Proveedor1'): 8,\n",
       " ('E', 'Proveedor2'): 7,\n",
       " ('F', 'Proveedor1'): 9,\n",
       " ('F', 'Proveedor2'): 5}"
      ]
     },
     "execution_count": 98,
     "metadata": {},
     "output_type": "execute_result"
    }
   ],
   "source": [
    "# Costo del material: ¿Cuánto cuesta obtener cada uno de los productos con cada uno de los proveedores?\n",
    "\n",
    "costo_material = {(prod, prov): random.randint(5, 10) for prod in productos for prov in proveedores}\n",
    "\n",
    "costo_material"
   ]
  },
  {
   "cell_type": "code",
   "execution_count": 99,
   "metadata": {},
   "outputs": [
    {
     "data": {
      "text/plain": [
       "{('A', 'Enero', 'Proveedor1'): 1120,\n",
       " ('A', 'Enero', 'Proveedor2'): 1524,\n",
       " ('A', 'Febrero', 'Proveedor1'): 1428,\n",
       " ('A', 'Febrero', 'Proveedor2'): 1168,\n",
       " ('A', 'Marzo', 'Proveedor1'): 1775,\n",
       " ('A', 'Marzo', 'Proveedor2'): 1350,\n",
       " ('A', 'Abril', 'Proveedor1'): 1155,\n",
       " ('A', 'Abril', 'Proveedor2'): 1955,\n",
       " ('A', 'Mayo', 'Proveedor1'): 1500,\n",
       " ('A', 'Mayo', 'Proveedor2'): 1431,\n",
       " ('A', 'Junio', 'Proveedor1'): 1040,\n",
       " ('A', 'Junio', 'Proveedor2'): 1985,\n",
       " ('B', 'Enero', 'Proveedor1'): 1684,\n",
       " ('B', 'Enero', 'Proveedor2'): 1079,\n",
       " ('B', 'Febrero', 'Proveedor1'): 1782,\n",
       " ('B', 'Febrero', 'Proveedor2'): 1571,\n",
       " ('B', 'Marzo', 'Proveedor1'): 1586,\n",
       " ('B', 'Marzo', 'Proveedor2'): 1808,\n",
       " ('B', 'Abril', 'Proveedor1'): 1896,\n",
       " ('B', 'Abril', 'Proveedor2'): 1837,\n",
       " ('B', 'Mayo', 'Proveedor1'): 1321,\n",
       " ('B', 'Mayo', 'Proveedor2'): 1348,\n",
       " ('B', 'Junio', 'Proveedor1'): 1711,\n",
       " ('B', 'Junio', 'Proveedor2'): 1358,\n",
       " ('C', 'Enero', 'Proveedor1'): 1608,\n",
       " ('C', 'Enero', 'Proveedor2'): 1508,\n",
       " ('C', 'Febrero', 'Proveedor1'): 1593,\n",
       " ('C', 'Febrero', 'Proveedor2'): 1816,\n",
       " ('C', 'Marzo', 'Proveedor1'): 1467,\n",
       " ('C', 'Marzo', 'Proveedor2'): 1070,\n",
       " ('C', 'Abril', 'Proveedor1'): 1860,\n",
       " ('C', 'Abril', 'Proveedor2'): 1095,\n",
       " ('C', 'Mayo', 'Proveedor1'): 1967,\n",
       " ('C', 'Mayo', 'Proveedor2'): 1276,\n",
       " ('C', 'Junio', 'Proveedor1'): 1485,\n",
       " ('C', 'Junio', 'Proveedor2'): 1713,\n",
       " ('D', 'Enero', 'Proveedor1'): 1680,\n",
       " ('D', 'Enero', 'Proveedor2'): 1066,\n",
       " ('D', 'Febrero', 'Proveedor1'): 1062,\n",
       " ('D', 'Febrero', 'Proveedor2'): 1748,\n",
       " ('D', 'Marzo', 'Proveedor1'): 1718,\n",
       " ('D', 'Marzo', 'Proveedor2'): 1317,\n",
       " ('D', 'Abril', 'Proveedor1'): 1662,\n",
       " ('D', 'Abril', 'Proveedor2'): 1591,\n",
       " ('D', 'Mayo', 'Proveedor1'): 1697,\n",
       " ('D', 'Mayo', 'Proveedor2'): 1841,\n",
       " ('D', 'Junio', 'Proveedor1'): 1456,\n",
       " ('D', 'Junio', 'Proveedor2'): 1291,\n",
       " ('E', 'Enero', 'Proveedor1'): 1733,\n",
       " ('E', 'Enero', 'Proveedor2'): 1395,\n",
       " ('E', 'Febrero', 'Proveedor1'): 1908,\n",
       " ('E', 'Febrero', 'Proveedor2'): 1684,\n",
       " ('E', 'Marzo', 'Proveedor1'): 1355,\n",
       " ('E', 'Marzo', 'Proveedor2'): 1023,\n",
       " ('E', 'Abril', 'Proveedor1'): 1963,\n",
       " ('E', 'Abril', 'Proveedor2'): 1472,\n",
       " ('E', 'Mayo', 'Proveedor1'): 1363,\n",
       " ('E', 'Mayo', 'Proveedor2'): 1172,\n",
       " ('E', 'Junio', 'Proveedor1'): 1625,\n",
       " ('E', 'Junio', 'Proveedor2'): 1119,\n",
       " ('F', 'Enero', 'Proveedor1'): 1505,\n",
       " ('F', 'Enero', 'Proveedor2'): 1060,\n",
       " ('F', 'Febrero', 'Proveedor1'): 1223,\n",
       " ('F', 'Febrero', 'Proveedor2'): 1786,\n",
       " ('F', 'Marzo', 'Proveedor1'): 1294,\n",
       " ('F', 'Marzo', 'Proveedor2'): 1132,\n",
       " ('F', 'Abril', 'Proveedor1'): 1756,\n",
       " ('F', 'Abril', 'Proveedor2'): 1253,\n",
       " ('F', 'Mayo', 'Proveedor1'): 1407,\n",
       " ('F', 'Mayo', 'Proveedor2'): 1400,\n",
       " ('F', 'Junio', 'Proveedor1'): 1938,\n",
       " ('F', 'Junio', 'Proveedor2'): 1892}"
      ]
     },
     "execution_count": 99,
     "metadata": {},
     "output_type": "execute_result"
    }
   ],
   "source": [
    "# Capacidad del proveedor: ¿Cuántas unidades de cada producto puede generar cada proveedor en cada periodo?\n",
    "\n",
    "capacidad_proveedor = {(prod, per, prov): random.randint(1000, 2000) for prod in productos for per in periodos for prov in proveedores}\n",
    "\n",
    "capacidad_proveedor"
   ]
  },
  {
   "cell_type": "code",
   "execution_count": 100,
   "metadata": {},
   "outputs": [
    {
     "data": {
      "text/plain": [
       "{('A', 'Cliente1'): 131,\n",
       " ('A', 'Cliente2'): 105,\n",
       " ('B', 'Cliente1'): 110,\n",
       " ('B', 'Cliente2'): 128,\n",
       " ('C', 'Cliente1'): 125,\n",
       " ('C', 'Cliente2'): 135,\n",
       " ('D', 'Cliente1'): 117,\n",
       " ('D', 'Cliente2'): 108,\n",
       " ('E', 'Cliente1'): 127,\n",
       " ('E', 'Cliente2'): 135,\n",
       " ('F', 'Cliente1'): 117,\n",
       " ('F', 'Cliente2'): 145}"
      ]
     },
     "execution_count": 100,
     "metadata": {},
     "output_type": "execute_result"
    }
   ],
   "source": [
    "# Ingreso por venta: ¿Cuánto paga cada cliente por cada uno de los productos?\n",
    "\n",
    "ingreso_venta = {(p, c): random.randint(100, 150) for p in productos for c in clientes}\n",
    "\n",
    "ingreso_venta"
   ]
  },
  {
   "cell_type": "code",
   "execution_count": 101,
   "metadata": {},
   "outputs": [
    {
     "data": {
      "text/plain": [
       "{'A': 4, 'B': 3, 'C': 4, 'D': 2, 'E': 2, 'F': 1}"
      ]
     },
     "execution_count": 101,
     "metadata": {},
     "output_type": "execute_result"
    }
   ],
   "source": [
    "# Costo de mantenimiento: ¿Cuánto cuesta mantener cada uno de los productos dentro del inventario?\n",
    "\n",
    "costo_mantenimiento = {p: random.randint(1, 5) for p in productos}\n",
    "\n",
    "costo_mantenimiento"
   ]
  },
  {
   "cell_type": "code",
   "execution_count": 102,
   "metadata": {},
   "outputs": [],
   "source": [
    "# Costo de mano de obra en tiempo de jornada regular y en horas extra.\n",
    "\n",
    "costo_mano_obra = 15\n",
    "costo_mano_obra_extra = 25"
   ]
  },
  {
   "cell_type": "code",
   "execution_count": 103,
   "metadata": {},
   "outputs": [
    {
     "data": {
      "text/plain": [
       "{('A', 'Planta1'): 122,\n",
       " ('A', 'Planta2'): 119,\n",
       " ('B', 'Planta1'): 129,\n",
       " ('B', 'Planta2'): 184,\n",
       " ('C', 'Planta1'): 129,\n",
       " ('C', 'Planta2'): 101,\n",
       " ('D', 'Planta1'): 162,\n",
       " ('D', 'Planta2'): 175,\n",
       " ('E', 'Planta1'): 123,\n",
       " ('E', 'Planta2'): 133,\n",
       " ('F', 'Planta1'): 136,\n",
       " ('F', 'Planta2'): 100}"
      ]
     },
     "execution_count": 103,
     "metadata": {},
     "output_type": "execute_result"
    }
   ],
   "source": [
    "# Inventario inicial: ¿Cuántas unidades se tienen al inicio de cada periodo?\n",
    "\n",
    "inventario_inicial = {(pr, pl): random.randint(100, 200) for pr in productos for pl in plantas}\n",
    "\n",
    "inventario_inicial"
   ]
  },
  {
   "cell_type": "code",
   "execution_count": 104,
   "metadata": {},
   "outputs": [
    {
     "data": {
      "text/plain": [
       "{('A', 'Planta1'): 3,\n",
       " ('A', 'Planta2'): 7,\n",
       " ('B', 'Planta1'): 6,\n",
       " ('B', 'Planta2'): 6,\n",
       " ('C', 'Planta1'): 3,\n",
       " ('C', 'Planta2'): 1,\n",
       " ('D', 'Planta1'): 8,\n",
       " ('D', 'Planta2'): 7,\n",
       " ('E', 'Planta1'): 7,\n",
       " ('E', 'Planta2'): 7,\n",
       " ('F', 'Planta1'): 7,\n",
       " ('F', 'Planta2'): 2}"
      ]
     },
     "execution_count": 104,
     "metadata": {},
     "output_type": "execute_result"
    }
   ],
   "source": [
    "# Horas por unidad: Tiempo requerido por unidad para cada producto\n",
    "\n",
    "horas_por_unidad = {(pr, pl): random.randint(1, 8) for pr in productos for pl in plantas}\n",
    "\n",
    "horas_por_unidad"
   ]
  },
  {
   "cell_type": "code",
   "execution_count": 105,
   "metadata": {},
   "outputs": [],
   "source": [
    "#Horas de trabajo máximo: Tiempo máximo que se puede dedicar a la producción.\n",
    "\n",
    "horas_trabajo_max = 50000"
   ]
  },
  {
   "cell_type": "markdown",
   "metadata": {},
   "source": [
    "# Definición del problema"
   ]
  },
  {
   "cell_type": "markdown",
   "metadata": {},
   "source": [
    "## Definición de las variables de decisión\n",
    "\n",
    "Aquellas que se tomarán en cuenta a lo largo de la resolución del problema y que surgen de la manipulación de las variables base."
   ]
  },
  {
   "cell_type": "code",
   "execution_count": 106,
   "metadata": {},
   "outputs": [],
   "source": [
    "# Variables de decisión\n",
    "\n",
    "x_vars = LpVariable.dicts(\"Produccion\", [(p, t, l) for p in productos for t in periodos for l in plantas], lowBound=0, cat='Continuous')\n",
    "y_vars = LpVariable.dicts(\"Venta\", [(p, t, c) for p in productos for t in periodos for c in clientes], lowBound=0, cat='Continuous')\n",
    "m_vars = LpVariable.dicts(\"Material_Comprado\", [(p, t, q) for p in productos for t in periodos for q in proveedores], lowBound=0, cat='Continuous')\n",
    "w_vars = LpVariable.dicts(\"Adquisicion_CEDIS\", [(p, t, w) for p in productos for t in periodos for w in cedis], lowBound=0, cat='Continuous')\n",
    "i_vars = LpVariable.dicts(\"Inventario\", [(p, t, l) for p in productos for t in periodos for l in plantas], lowBound=0, cat='Continuous')"
   ]
  },
  {
   "cell_type": "markdown",
   "metadata": {},
   "source": [
    "## Definición de la función objetivo:\n",
    "\n",
    "En este caso, maximizar las ganancias. Esto se obtendrá restando el costo de mantenimiento y el costo de producción a las ganancias obtenidas por cada producto."
   ]
  },
  {
   "cell_type": "code",
   "execution_count": 107,
   "metadata": {},
   "outputs": [],
   "source": [
    "# Crear el problema de maximización\n",
    "\n",
    "prob = LpProblem(\"Maximizar_Ganancias\", LpMaximize)"
   ]
  },
  {
   "cell_type": "code",
   "execution_count": 108,
   "metadata": {},
   "outputs": [],
   "source": [
    "# Se define la función objetivo\n",
    "\n",
    "prob += (lpSum([ingreso_venta.get((p, c), 0) * y_vars[p, t, c] for p in productos for t in periodos for c in clientes]) -\n",
    "         lpSum([costo_produccion.get((p, l), 0) * x_vars[p, t, l] for p in productos for t in periodos for l in plantas]) -\n",
    "         lpSum([costo_mantenimiento.get((p, w), 0) * w_vars[p, t, w] for p in productos for t in periodos for w in cedis]),\n",
    "         \"Beneficio_Total\")"
   ]
  },
  {
   "cell_type": "markdown",
   "metadata": {},
   "source": [
    "## Definición de las restricciones:\n",
    "\n",
    "Tales como restricciones de demanda, de capacidad, de almacenamiento y de inventario."
   ]
  },
  {
   "cell_type": "code",
   "execution_count": 109,
   "metadata": {},
   "outputs": [],
   "source": [
    "# Tipo de restricción: Capacidad del proveedor\n",
    "# Descripción: Limita la cantidad de materiales que un proveedor puede suministrar para un producto en un período de tiempo dado.\n",
    "# Comentario: Controla la capacidad de los proveedores y evita la saturación.\n",
    "\n",
    "for p in productos:\n",
    "    for t in periodos:\n",
    "        for q in proveedores:\n",
    "            capacidad = capacidad_proveedor.get((p, t, q), 0)  # Valor por defecto en caso de no encontrar la clave\n",
    "            prob += lpSum([m_vars[(p, t, q)]]) <= capacidad, f\"Capacidad_proveedor_{p}_{t}_{q}\"\n",
    "\n",
    "\n",
    "# Tipo de restricción: Balance de inventario\n",
    "# Descripción: Asegura que el inventario final sea igual al inventario inicial más la producción menos las ventas.\n",
    "# Comentario: Se utiliza para mantener un balance correcto del inventario.\n",
    "\n",
    "for p in productos:\n",
    "    for t in periodos:\n",
    "        for l in plantas:\n",
    "            # Asumiendo que `inventario_inicial` es un diccionario que contiene el inventario inicial por producto y planta\n",
    "            inventario_inicio = inventario_inicial.get((p, l), 0)\n",
    "            prob += (inventario_inicio + lpSum([x_vars[(p, t, l)]])) - lpSum([y_vars[(p, t, c)] for c in clientes]) == i_vars[(p, t, l)], f\"Inventario_final_{p}_{t}_{l}\"\n",
    "\n",
    "\n",
    "# Tipo de restricción: Capacidad de producción\n",
    "# Descripción: Limita la producción para no exceder la capacidad de almacenamiento de la planta.\n",
    "# Comentario: Ayuda a evitar la sobrecarga de las instalaciones de producción.\n",
    "\n",
    "for p in productos:\n",
    "    for t in periodos:\n",
    "        for l in plantas:\n",
    "            prob += lpSum([x_vars[(p, t, l)]]) <= capacidad_almacenaje[l], f\"Capacidad_produccion_{p}_{t}_{l}\"\n",
    "\n",
    "\n",
    "# Tipo de restricción: Uso máximo de materiales\n",
    "# Descripción: Limita la cantidad de materiales que se pueden comprar de un proveedor a la cantidad de materiales necesarios para la producción planificada.\n",
    "# Comentario: Evita el exceso de compra de materiales.\n",
    "\n",
    "for p in productos:\n",
    "    for t in periodos:\n",
    "        for q in proveedores:\n",
    "            prob += m_vars[(p, t, q)] <= lpSum([x_vars[(p, t, l)] for l in plantas]), f\"Material_uso_maximo_{p}_{t}_{q}\"\n",
    "\n",
    "\n",
    "# Tipo de restricción: Cumplimiento de demanda mínima\n",
    "# Descripción: Asegura que al menos se satisfaga una cierta cantidad de la demanda del cliente.\n",
    "# Comentario: Garantiza la satisfacción mínima de los clientes.\n",
    "\n",
    "for p in productos:\n",
    "    for t in periodos:\n",
    "        for c in clientes:\n",
    "            demanda_min = demanda_cliente.get((p, t, c), 0) * 0.9  # Por ejemplo, al menos el 90%\n",
    "            prob += lpSum([y_vars[(p, t, c)]]) >= demanda_min, f\"Cumplimiento_demanda_minima_{p}_{t}_{c}\"\n",
    "\n",
    "\n",
    "# Tipo de restricción: Horas de trabajo máximas\n",
    "# Descripción: Limita las horas de trabajo para no exceder un máximo establecido.\n",
    "# Comentario: Controla la carga laboral y el tiempo de producción.\n",
    "\n",
    "for p in productos:\n",
    "    for t in periodos:\n",
    "        for l in plantas:\n",
    "            prob += (lpSum([x_vars[(p, t, l)] * horas_por_unidad[(p, l)]]) <= horas_trabajo_max), f\"Horas_trabajo_{p}_{t}_{l}\""
   ]
  },
  {
   "cell_type": "markdown",
   "metadata": {},
   "source": [
    "# Resolución del problema"
   ]
  },
  {
   "cell_type": "code",
   "execution_count": 110,
   "metadata": {},
   "outputs": [
    {
     "data": {
      "text/plain": [
       "1"
      ]
     },
     "execution_count": 110,
     "metadata": {},
     "output_type": "execute_result"
    }
   ],
   "source": [
    "# Resolver el problema\n",
    "prob.solve()"
   ]
  },
  {
   "cell_type": "code",
   "execution_count": 111,
   "metadata": {},
   "outputs": [
    {
     "name": "stdout",
     "output_type": "stream",
     "text": [
      "Optimal\n"
     ]
    }
   ],
   "source": [
    "# Imprimir el estado de la solución\n",
    "print(LpStatus[prob.status])"
   ]
  },
  {
   "cell_type": "code",
   "execution_count": 112,
   "metadata": {},
   "outputs": [
    {
     "name": "stdout",
     "output_type": "stream",
     "text": [
      "Inventario_('A',_'Abril',_'Planta1') = 0.0\n",
      "Inventario_('A',_'Abril',_'Planta2') = 0.0\n",
      "Inventario_('A',_'Enero',_'Planta1') = 0.0\n",
      "Inventario_('A',_'Enero',_'Planta2') = 0.0\n",
      "Inventario_('A',_'Febrero',_'Planta1') = 0.0\n",
      "Inventario_('A',_'Febrero',_'Planta2') = 0.0\n",
      "Inventario_('A',_'Junio',_'Planta1') = 0.0\n",
      "Inventario_('A',_'Junio',_'Planta2') = 0.0\n",
      "Inventario_('A',_'Marzo',_'Planta1') = 0.0\n",
      "Inventario_('A',_'Marzo',_'Planta2') = 0.0\n",
      "Inventario_('A',_'Mayo',_'Planta1') = 0.0\n",
      "Inventario_('A',_'Mayo',_'Planta2') = 0.0\n",
      "Inventario_('B',_'Abril',_'Planta1') = 0.0\n",
      "Inventario_('B',_'Abril',_'Planta2') = 0.0\n",
      "Inventario_('B',_'Enero',_'Planta1') = 0.0\n",
      "Inventario_('B',_'Enero',_'Planta2') = 0.0\n",
      "Inventario_('B',_'Febrero',_'Planta1') = 0.0\n",
      "Inventario_('B',_'Febrero',_'Planta2') = 0.0\n",
      "Inventario_('B',_'Junio',_'Planta1') = 0.0\n",
      "Inventario_('B',_'Junio',_'Planta2') = 0.0\n",
      "Inventario_('B',_'Marzo',_'Planta1') = 0.0\n",
      "Inventario_('B',_'Marzo',_'Planta2') = 0.0\n",
      "Inventario_('B',_'Mayo',_'Planta1') = 0.0\n",
      "Inventario_('B',_'Mayo',_'Planta2') = 0.0\n",
      "Inventario_('C',_'Abril',_'Planta1') = 0.0\n",
      "Inventario_('C',_'Abril',_'Planta2') = 0.0\n",
      "Inventario_('C',_'Enero',_'Planta1') = 0.0\n",
      "Inventario_('C',_'Enero',_'Planta2') = 0.0\n",
      "Inventario_('C',_'Febrero',_'Planta1') = 0.0\n",
      "Inventario_('C',_'Febrero',_'Planta2') = 0.0\n",
      "Inventario_('C',_'Junio',_'Planta1') = 0.0\n",
      "Inventario_('C',_'Junio',_'Planta2') = 0.0\n",
      "Inventario_('C',_'Marzo',_'Planta1') = 0.0\n",
      "Inventario_('C',_'Marzo',_'Planta2') = 0.0\n",
      "Inventario_('C',_'Mayo',_'Planta1') = 0.0\n",
      "Inventario_('C',_'Mayo',_'Planta2') = 0.0\n",
      "Inventario_('D',_'Abril',_'Planta1') = 0.0\n",
      "Inventario_('D',_'Abril',_'Planta2') = 0.0\n",
      "Inventario_('D',_'Enero',_'Planta1') = 0.0\n",
      "Inventario_('D',_'Enero',_'Planta2') = 0.0\n",
      "Inventario_('D',_'Febrero',_'Planta1') = 0.0\n",
      "Inventario_('D',_'Febrero',_'Planta2') = 0.0\n",
      "Inventario_('D',_'Junio',_'Planta1') = 0.0\n",
      "Inventario_('D',_'Junio',_'Planta2') = 0.0\n",
      "Inventario_('D',_'Marzo',_'Planta1') = 0.0\n",
      "Inventario_('D',_'Marzo',_'Planta2') = 0.0\n",
      "Inventario_('D',_'Mayo',_'Planta1') = 0.0\n",
      "Inventario_('D',_'Mayo',_'Planta2') = 0.0\n",
      "Inventario_('E',_'Abril',_'Planta1') = 0.0\n",
      "Inventario_('E',_'Abril',_'Planta2') = 0.0\n",
      "Inventario_('E',_'Enero',_'Planta1') = 0.0\n",
      "Inventario_('E',_'Enero',_'Planta2') = 0.0\n",
      "Inventario_('E',_'Febrero',_'Planta1') = 0.0\n",
      "Inventario_('E',_'Febrero',_'Planta2') = 0.0\n",
      "Inventario_('E',_'Junio',_'Planta1') = 0.0\n",
      "Inventario_('E',_'Junio',_'Planta2') = 0.0\n",
      "Inventario_('E',_'Marzo',_'Planta1') = 0.0\n",
      "Inventario_('E',_'Marzo',_'Planta2') = 0.0\n",
      "Inventario_('E',_'Mayo',_'Planta1') = 0.0\n",
      "Inventario_('E',_'Mayo',_'Planta2') = 0.0\n",
      "Inventario_('F',_'Abril',_'Planta1') = 0.0\n",
      "Inventario_('F',_'Abril',_'Planta2') = 0.0\n",
      "Inventario_('F',_'Enero',_'Planta1') = 0.0\n",
      "Inventario_('F',_'Enero',_'Planta2') = 0.0\n",
      "Inventario_('F',_'Febrero',_'Planta1') = 0.0\n",
      "Inventario_('F',_'Febrero',_'Planta2') = 0.0\n",
      "Inventario_('F',_'Junio',_'Planta1') = 0.0\n",
      "Inventario_('F',_'Junio',_'Planta2') = 0.0\n",
      "Inventario_('F',_'Marzo',_'Planta1') = 0.0\n",
      "Inventario_('F',_'Marzo',_'Planta2') = 0.0\n",
      "Inventario_('F',_'Mayo',_'Planta1') = 0.0\n",
      "Inventario_('F',_'Mayo',_'Planta2') = 0.0\n",
      "Material_Comprado_('A',_'Abril',_'Proveedor1') = 0.0\n",
      "Material_Comprado_('A',_'Abril',_'Proveedor2') = 0.0\n",
      "Material_Comprado_('A',_'Enero',_'Proveedor1') = 0.0\n",
      "Material_Comprado_('A',_'Enero',_'Proveedor2') = 0.0\n",
      "Material_Comprado_('A',_'Febrero',_'Proveedor1') = 0.0\n",
      "Material_Comprado_('A',_'Febrero',_'Proveedor2') = 0.0\n",
      "Material_Comprado_('A',_'Junio',_'Proveedor1') = 0.0\n",
      "Material_Comprado_('A',_'Junio',_'Proveedor2') = 0.0\n",
      "Material_Comprado_('A',_'Marzo',_'Proveedor1') = 0.0\n",
      "Material_Comprado_('A',_'Marzo',_'Proveedor2') = 0.0\n",
      "Material_Comprado_('A',_'Mayo',_'Proveedor1') = 0.0\n",
      "Material_Comprado_('A',_'Mayo',_'Proveedor2') = 0.0\n",
      "Material_Comprado_('B',_'Abril',_'Proveedor1') = 0.0\n",
      "Material_Comprado_('B',_'Abril',_'Proveedor2') = 0.0\n",
      "Material_Comprado_('B',_'Enero',_'Proveedor1') = 0.0\n",
      "Material_Comprado_('B',_'Enero',_'Proveedor2') = 0.0\n",
      "Material_Comprado_('B',_'Febrero',_'Proveedor1') = 0.0\n",
      "Material_Comprado_('B',_'Febrero',_'Proveedor2') = 0.0\n",
      "Material_Comprado_('B',_'Junio',_'Proveedor1') = 0.0\n",
      "Material_Comprado_('B',_'Junio',_'Proveedor2') = 0.0\n",
      "Material_Comprado_('B',_'Marzo',_'Proveedor1') = 0.0\n",
      "Material_Comprado_('B',_'Marzo',_'Proveedor2') = 0.0\n",
      "Material_Comprado_('B',_'Mayo',_'Proveedor1') = 0.0\n",
      "Material_Comprado_('B',_'Mayo',_'Proveedor2') = 0.0\n",
      "Material_Comprado_('C',_'Abril',_'Proveedor1') = 0.0\n",
      "Material_Comprado_('C',_'Abril',_'Proveedor2') = 0.0\n",
      "Material_Comprado_('C',_'Enero',_'Proveedor1') = 0.0\n",
      "Material_Comprado_('C',_'Enero',_'Proveedor2') = 0.0\n",
      "Material_Comprado_('C',_'Febrero',_'Proveedor1') = 0.0\n",
      "Material_Comprado_('C',_'Febrero',_'Proveedor2') = 0.0\n",
      "Material_Comprado_('C',_'Junio',_'Proveedor1') = 0.0\n",
      "Material_Comprado_('C',_'Junio',_'Proveedor2') = 0.0\n",
      "Material_Comprado_('C',_'Marzo',_'Proveedor1') = 0.0\n",
      "Material_Comprado_('C',_'Marzo',_'Proveedor2') = 0.0\n",
      "Material_Comprado_('C',_'Mayo',_'Proveedor1') = 0.0\n",
      "Material_Comprado_('C',_'Mayo',_'Proveedor2') = 0.0\n",
      "Material_Comprado_('D',_'Abril',_'Proveedor1') = 0.0\n",
      "Material_Comprado_('D',_'Abril',_'Proveedor2') = 0.0\n",
      "Material_Comprado_('D',_'Enero',_'Proveedor1') = 0.0\n",
      "Material_Comprado_('D',_'Enero',_'Proveedor2') = 0.0\n",
      "Material_Comprado_('D',_'Febrero',_'Proveedor1') = 0.0\n",
      "Material_Comprado_('D',_'Febrero',_'Proveedor2') = 0.0\n",
      "Material_Comprado_('D',_'Junio',_'Proveedor1') = 0.0\n",
      "Material_Comprado_('D',_'Junio',_'Proveedor2') = 0.0\n",
      "Material_Comprado_('D',_'Marzo',_'Proveedor1') = 0.0\n",
      "Material_Comprado_('D',_'Marzo',_'Proveedor2') = 0.0\n",
      "Material_Comprado_('D',_'Mayo',_'Proveedor1') = 0.0\n",
      "Material_Comprado_('D',_'Mayo',_'Proveedor2') = 0.0\n",
      "Material_Comprado_('E',_'Abril',_'Proveedor1') = 0.0\n",
      "Material_Comprado_('E',_'Abril',_'Proveedor2') = 0.0\n",
      "Material_Comprado_('E',_'Enero',_'Proveedor1') = 0.0\n",
      "Material_Comprado_('E',_'Enero',_'Proveedor2') = 0.0\n",
      "Material_Comprado_('E',_'Febrero',_'Proveedor1') = 0.0\n",
      "Material_Comprado_('E',_'Febrero',_'Proveedor2') = 0.0\n",
      "Material_Comprado_('E',_'Junio',_'Proveedor1') = 0.0\n",
      "Material_Comprado_('E',_'Junio',_'Proveedor2') = 0.0\n",
      "Material_Comprado_('E',_'Marzo',_'Proveedor1') = 0.0\n",
      "Material_Comprado_('E',_'Marzo',_'Proveedor2') = 0.0\n",
      "Material_Comprado_('E',_'Mayo',_'Proveedor1') = 0.0\n",
      "Material_Comprado_('E',_'Mayo',_'Proveedor2') = 0.0\n",
      "Material_Comprado_('F',_'Abril',_'Proveedor1') = 0.0\n",
      "Material_Comprado_('F',_'Abril',_'Proveedor2') = 0.0\n",
      "Material_Comprado_('F',_'Enero',_'Proveedor1') = 0.0\n",
      "Material_Comprado_('F',_'Enero',_'Proveedor2') = 0.0\n",
      "Material_Comprado_('F',_'Febrero',_'Proveedor1') = 0.0\n",
      "Material_Comprado_('F',_'Febrero',_'Proveedor2') = 0.0\n",
      "Material_Comprado_('F',_'Junio',_'Proveedor1') = 0.0\n",
      "Material_Comprado_('F',_'Junio',_'Proveedor2') = 0.0\n",
      "Material_Comprado_('F',_'Marzo',_'Proveedor1') = 0.0\n",
      "Material_Comprado_('F',_'Marzo',_'Proveedor2') = 0.0\n",
      "Material_Comprado_('F',_'Mayo',_'Proveedor1') = 0.0\n",
      "Material_Comprado_('F',_'Mayo',_'Proveedor2') = 0.0\n",
      "Produccion_('A',_'Abril',_'Planta1') = 5000.0\n",
      "Produccion_('A',_'Abril',_'Planta2') = 5003.0\n",
      "Produccion_('A',_'Enero',_'Planta1') = 5000.0\n",
      "Produccion_('A',_'Enero',_'Planta2') = 5003.0\n",
      "Produccion_('A',_'Febrero',_'Planta1') = 5000.0\n",
      "Produccion_('A',_'Febrero',_'Planta2') = 5003.0\n",
      "Produccion_('A',_'Junio',_'Planta1') = 5000.0\n",
      "Produccion_('A',_'Junio',_'Planta2') = 5003.0\n",
      "Produccion_('A',_'Marzo',_'Planta1') = 5000.0\n",
      "Produccion_('A',_'Marzo',_'Planta2') = 5003.0\n",
      "Produccion_('A',_'Mayo',_'Planta1') = 5000.0\n",
      "Produccion_('A',_'Mayo',_'Planta2') = 5003.0\n",
      "Produccion_('B',_'Abril',_'Planta1') = 5000.0\n",
      "Produccion_('B',_'Abril',_'Planta2') = 4945.0\n",
      "Produccion_('B',_'Enero',_'Planta1') = 5000.0\n",
      "Produccion_('B',_'Enero',_'Planta2') = 4945.0\n",
      "Produccion_('B',_'Febrero',_'Planta1') = 5000.0\n",
      "Produccion_('B',_'Febrero',_'Planta2') = 4945.0\n",
      "Produccion_('B',_'Junio',_'Planta1') = 5000.0\n",
      "Produccion_('B',_'Junio',_'Planta2') = 4945.0\n",
      "Produccion_('B',_'Marzo',_'Planta1') = 5000.0\n",
      "Produccion_('B',_'Marzo',_'Planta2') = 4945.0\n",
      "Produccion_('B',_'Mayo',_'Planta1') = 5000.0\n",
      "Produccion_('B',_'Mayo',_'Planta2') = 4945.0\n",
      "Produccion_('C',_'Abril',_'Planta1') = 5000.0\n",
      "Produccion_('C',_'Abril',_'Planta2') = 5028.0\n",
      "Produccion_('C',_'Enero',_'Planta1') = 5000.0\n",
      "Produccion_('C',_'Enero',_'Planta2') = 5028.0\n",
      "Produccion_('C',_'Febrero',_'Planta1') = 5000.0\n",
      "Produccion_('C',_'Febrero',_'Planta2') = 5028.0\n",
      "Produccion_('C',_'Junio',_'Planta1') = 5000.0\n",
      "Produccion_('C',_'Junio',_'Planta2') = 5028.0\n",
      "Produccion_('C',_'Marzo',_'Planta1') = 5000.0\n",
      "Produccion_('C',_'Marzo',_'Planta2') = 5028.0\n",
      "Produccion_('C',_'Mayo',_'Planta1') = 5000.0\n",
      "Produccion_('C',_'Mayo',_'Planta2') = 5028.0\n",
      "Produccion_('D',_'Abril',_'Planta1') = 5000.0\n",
      "Produccion_('D',_'Abril',_'Planta2') = 4987.0\n",
      "Produccion_('D',_'Enero',_'Planta1') = 5000.0\n",
      "Produccion_('D',_'Enero',_'Planta2') = 4987.0\n",
      "Produccion_('D',_'Febrero',_'Planta1') = 5000.0\n",
      "Produccion_('D',_'Febrero',_'Planta2') = 4987.0\n",
      "Produccion_('D',_'Junio',_'Planta1') = 5000.0\n",
      "Produccion_('D',_'Junio',_'Planta2') = 4987.0\n",
      "Produccion_('D',_'Marzo',_'Planta1') = 5000.0\n",
      "Produccion_('D',_'Marzo',_'Planta2') = 4987.0\n",
      "Produccion_('D',_'Mayo',_'Planta1') = 5000.0\n",
      "Produccion_('D',_'Mayo',_'Planta2') = 4987.0\n",
      "Produccion_('E',_'Abril',_'Planta1') = 5000.0\n",
      "Produccion_('E',_'Abril',_'Planta2') = 4990.0\n",
      "Produccion_('E',_'Enero',_'Planta1') = 5000.0\n",
      "Produccion_('E',_'Enero',_'Planta2') = 4990.0\n",
      "Produccion_('E',_'Febrero',_'Planta1') = 5000.0\n",
      "Produccion_('E',_'Febrero',_'Planta2') = 4990.0\n",
      "Produccion_('E',_'Junio',_'Planta1') = 5000.0\n",
      "Produccion_('E',_'Junio',_'Planta2') = 4990.0\n",
      "Produccion_('E',_'Marzo',_'Planta1') = 5000.0\n",
      "Produccion_('E',_'Marzo',_'Planta2') = 4990.0\n",
      "Produccion_('E',_'Mayo',_'Planta1') = 5000.0\n",
      "Produccion_('E',_'Mayo',_'Planta2') = 4990.0\n",
      "Produccion_('F',_'Abril',_'Planta1') = 5000.0\n",
      "Produccion_('F',_'Abril',_'Planta2') = 5036.0\n",
      "Produccion_('F',_'Enero',_'Planta1') = 5000.0\n",
      "Produccion_('F',_'Enero',_'Planta2') = 5036.0\n",
      "Produccion_('F',_'Febrero',_'Planta1') = 5000.0\n",
      "Produccion_('F',_'Febrero',_'Planta2') = 5036.0\n",
      "Produccion_('F',_'Junio',_'Planta1') = 5000.0\n",
      "Produccion_('F',_'Junio',_'Planta2') = 5036.0\n",
      "Produccion_('F',_'Marzo',_'Planta1') = 5000.0\n",
      "Produccion_('F',_'Marzo',_'Planta2') = 5036.0\n",
      "Produccion_('F',_'Mayo',_'Planta1') = 5000.0\n",
      "Produccion_('F',_'Mayo',_'Planta2') = 5036.0\n",
      "Venta_('A',_'Abril',_'Cliente1') = 4294.0\n",
      "Venta_('A',_'Abril',_'Cliente2') = 828.0\n",
      "Venta_('A',_'Enero',_'Cliente1') = 4235.5\n",
      "Venta_('A',_'Enero',_'Cliente2') = 886.5\n",
      "Venta_('A',_'Febrero',_'Cliente1') = 4490.2\n",
      "Venta_('A',_'Febrero',_'Cliente2') = 631.8\n",
      "Venta_('A',_'Junio',_'Cliente1') = 4403.8\n",
      "Venta_('A',_'Junio',_'Cliente2') = 718.2\n",
      "Venta_('A',_'Marzo',_'Cliente1') = 4650.4\n",
      "Venta_('A',_'Marzo',_'Cliente2') = 471.6\n",
      "Venta_('A',_'Mayo',_'Cliente1') = 4628.8\n",
      "Venta_('A',_'Mayo',_'Cliente2') = 493.2\n",
      "Venta_('B',_'Abril',_'Cliente1') = 649.8\n",
      "Venta_('B',_'Abril',_'Cliente2') = 4479.2\n",
      "Venta_('B',_'Enero',_'Cliente1') = 476.1\n",
      "Venta_('B',_'Enero',_'Cliente2') = 4652.9\n",
      "Venta_('B',_'Febrero',_'Cliente1') = 683.1\n",
      "Venta_('B',_'Febrero',_'Cliente2') = 4445.9\n",
      "Venta_('B',_'Junio',_'Cliente1') = 491.4\n",
      "Venta_('B',_'Junio',_'Cliente2') = 4637.6\n",
      "Venta_('B',_'Marzo',_'Cliente1') = 467.1\n",
      "Venta_('B',_'Marzo',_'Cliente2') = 4661.9\n",
      "Venta_('B',_'Mayo',_'Cliente1') = 481.5\n",
      "Venta_('B',_'Mayo',_'Cliente2') = 4647.5\n",
      "Venta_('C',_'Abril',_'Cliente1') = 552.6\n",
      "Venta_('C',_'Abril',_'Cliente2') = 4576.4\n",
      "Venta_('C',_'Enero',_'Cliente1') = 645.3\n",
      "Venta_('C',_'Enero',_'Cliente2') = 4483.7\n",
      "Venta_('C',_'Febrero',_'Cliente1') = 830.7\n",
      "Venta_('C',_'Febrero',_'Cliente2') = 4298.3\n",
      "Venta_('C',_'Junio',_'Cliente1') = 886.5\n",
      "Venta_('C',_'Junio',_'Cliente2') = 4242.5\n",
      "Venta_('C',_'Marzo',_'Cliente1') = 506.7\n",
      "Venta_('C',_'Marzo',_'Cliente2') = 4622.3\n",
      "Venta_('C',_'Mayo',_'Cliente1') = 738.9\n",
      "Venta_('C',_'Mayo',_'Cliente2') = 4390.1\n",
      "Venta_('D',_'Abril',_'Cliente1') = 4455.5\n",
      "Venta_('D',_'Abril',_'Cliente2') = 706.5\n",
      "Venta_('D',_'Enero',_'Cliente1') = 4442.9\n",
      "Venta_('D',_'Enero',_'Cliente2') = 719.1\n",
      "Venta_('D',_'Febrero',_'Cliente1') = 4689.5\n",
      "Venta_('D',_'Febrero',_'Cliente2') = 472.5\n",
      "Venta_('D',_'Junio',_'Cliente1') = 4519.4\n",
      "Venta_('D',_'Junio',_'Cliente2') = 642.6\n",
      "Venta_('D',_'Marzo',_'Cliente1') = 4610.3\n",
      "Venta_('D',_'Marzo',_'Cliente2') = 551.7\n",
      "Venta_('D',_'Mayo',_'Cliente1') = 4650.8\n",
      "Venta_('D',_'Mayo',_'Cliente2') = 511.2\n",
      "Venta_('E',_'Abril',_'Cliente1') = 825.3\n",
      "Venta_('E',_'Abril',_'Cliente2') = 4297.7\n",
      "Venta_('E',_'Enero',_'Cliente1') = 515.7\n",
      "Venta_('E',_'Enero',_'Cliente2') = 4607.3\n",
      "Venta_('E',_'Febrero',_'Cliente1') = 504.0\n",
      "Venta_('E',_'Febrero',_'Cliente2') = 4619.0\n",
      "Venta_('E',_'Junio',_'Cliente1') = 717.3\n",
      "Venta_('E',_'Junio',_'Cliente2') = 4405.7\n",
      "Venta_('E',_'Marzo',_'Cliente1') = 591.3\n",
      "Venta_('E',_'Marzo',_'Cliente2') = 4531.7\n",
      "Venta_('E',_'Mayo',_'Cliente1') = 532.8\n",
      "Venta_('E',_'Mayo',_'Cliente2') = 4590.2\n",
      "Venta_('F',_'Abril',_'Cliente1') = 478.8\n",
      "Venta_('F',_'Abril',_'Cliente2') = 4657.2\n",
      "Venta_('F',_'Enero',_'Cliente1') = 744.3\n",
      "Venta_('F',_'Enero',_'Cliente2') = 4391.7\n",
      "Venta_('F',_'Febrero',_'Cliente1') = 621.0\n",
      "Venta_('F',_'Febrero',_'Cliente2') = 4515.0\n",
      "Venta_('F',_'Junio',_'Cliente1') = 544.5\n",
      "Venta_('F',_'Junio',_'Cliente2') = 4591.5\n",
      "Venta_('F',_'Marzo',_'Cliente1') = 702.0\n",
      "Venta_('F',_'Marzo',_'Cliente2') = 4434.0\n",
      "Venta_('F',_'Mayo',_'Cliente1') = 477.0\n",
      "Venta_('F',_'Mayo',_'Cliente2') = 4659.0\n"
     ]
    }
   ],
   "source": [
    "# Imprimir los valores de las variables de decisión\n",
    "for v in prob.variables():\n",
    "    print(v.name, \"=\", v.varValue)"
   ]
  },
  {
   "cell_type": "code",
   "execution_count": 113,
   "metadata": {},
   "outputs": [
    {
     "name": "stdout",
     "output_type": "stream",
     "text": [
      "Beneficio Total = 17544502.800000012\n"
     ]
    }
   ],
   "source": [
    "# Usar directamente `value()` sin prefijo\n",
    "print(\"Beneficio Total =\", value(prob.objective))"
   ]
  }
 ],
 "metadata": {
  "kernelspec": {
   "display_name": "base",
   "language": "python",
   "name": "python3"
  },
  "language_info": {
   "codemirror_mode": {
    "name": "ipython",
    "version": 3
   },
   "file_extension": ".py",
   "mimetype": "text/x-python",
   "name": "python",
   "nbconvert_exporter": "python",
   "pygments_lexer": "ipython3",
   "version": "3.10.9"
  }
 },
 "nbformat": 4,
 "nbformat_minor": 2
}
