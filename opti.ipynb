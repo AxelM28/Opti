{
 "cells": [
  {
   "cell_type": "markdown",
   "metadata": {},
   "source": [
    "# Importar librerías necesarias"
   ]
  },
  {
   "cell_type": "code",
   "execution_count": 29,
   "metadata": {},
   "outputs": [
    {
     "name": "stdout",
     "output_type": "stream",
     "text": [
      "Requirement already satisfied: pulp in c:\\users\\axelm\\anaconda3\\lib\\site-packages (2.8.0)\n",
      "Note: you may need to restart the kernel to use updated packages.\n"
     ]
    }
   ],
   "source": [
    "pip install pulp"
   ]
  },
  {
   "cell_type": "code",
   "execution_count": 30,
   "metadata": {},
   "outputs": [],
   "source": [
    "from pulp import LpStatus, LpProblem, LpVariable, lpSum, LpMaximize, value"
   ]
  },
  {
   "cell_type": "code",
   "execution_count": 31,
   "metadata": {},
   "outputs": [],
   "source": [
    "import random\n",
    "random.seed(7)"
   ]
  },
  {
   "cell_type": "markdown",
   "metadata": {},
   "source": [
    "# Lectura de la base de datos"
   ]
  },
  {
   "cell_type": "markdown",
   "metadata": {},
   "source": [
    "Aún no se cuenta con la base de datos que se utilizarán en el problema original, por lo que se han creado las diferentes variables necesarias con valores de prueba."
   ]
  },
  {
   "cell_type": "markdown",
   "metadata": {},
   "source": [
    "## Definición de conjuntos"
   ]
  },
  {
   "cell_type": "code",
   "execution_count": 32,
   "metadata": {},
   "outputs": [],
   "source": [
    "# Productos\n",
    "productos = ['A', 'B', 'C', 'D', 'E', 'F']"
   ]
  },
  {
   "cell_type": "code",
   "execution_count": 33,
   "metadata": {},
   "outputs": [],
   "source": [
    "# Periodos\n",
    "periodos = ['Enero', 'Febrero', 'Marzo', 'Abril', 'Mayo', 'Junio']"
   ]
  },
  {
   "cell_type": "code",
   "execution_count": 34,
   "metadata": {},
   "outputs": [],
   "source": [
    "# Clientes\n",
    "clientes = ['Cliente1', 'Cliente2']"
   ]
  },
  {
   "cell_type": "code",
   "execution_count": 35,
   "metadata": {},
   "outputs": [],
   "source": [
    "# Plantas\n",
    "plantas = ['Planta1', 'Planta2']"
   ]
  },
  {
   "cell_type": "code",
   "execution_count": 36,
   "metadata": {},
   "outputs": [],
   "source": [
    "# Proveedores\n",
    "proveedores = ['Proveedor1', 'Proveedor2']"
   ]
  },
  {
   "cell_type": "code",
   "execution_count": 37,
   "metadata": {},
   "outputs": [],
   "source": [
    "# Centros de distribución (CEDIS)\n",
    "cedis = ['CEDIS1', 'CEDIS2']"
   ]
  },
  {
   "cell_type": "markdown",
   "metadata": {},
   "source": [
    "## Definición de variables base"
   ]
  },
  {
   "cell_type": "code",
   "execution_count": 38,
   "metadata": {},
   "outputs": [],
   "source": [
    "# Capacidad de almacenamiento: ¿Cuántos productos es posible guardar en cada planta?\n",
    "capacidad_almacenaje = {'Planta1': 5000, 'Planta2': 8000}"
   ]
  },
  {
   "cell_type": "code",
   "execution_count": 39,
   "metadata": {},
   "outputs": [
    {
     "data": {
      "text/plain": [
       "{('A', 'Enero', 'Cliente1'): 665,\n",
       " ('A', 'Enero', 'Cliente2'): 985,\n",
       " ('A', 'Febrero', 'Cliente1'): 577,\n",
       " ('A', 'Febrero', 'Cliente2'): 702,\n",
       " ('A', 'Marzo', 'Cliente1'): 833,\n",
       " ('A', 'Marzo', 'Cliente2'): 524,\n",
       " ('A', 'Abril', 'Cliente1'): 537,\n",
       " ('A', 'Abril', 'Cliente2'): 920,\n",
       " ('A', 'Mayo', 'Cliente1'): 774,\n",
       " ('A', 'Mayo', 'Cliente2'): 548,\n",
       " ('A', 'Junio', 'Cliente1'): 687,\n",
       " ('A', 'Junio', 'Cliente2'): 798,\n",
       " ('B', 'Enero', 'Cliente1'): 529,\n",
       " ('B', 'Enero', 'Cliente2'): 965,\n",
       " ('B', 'Febrero', 'Cliente1'): 759,\n",
       " ('B', 'Febrero', 'Cliente2'): 609,\n",
       " ('B', 'Marzo', 'Cliente1'): 519,\n",
       " ('B', 'Marzo', 'Cliente2'): 544,\n",
       " ('B', 'Abril', 'Cliente1'): 722,\n",
       " ('B', 'Abril', 'Cliente2'): 714,\n",
       " ('B', 'Mayo', 'Cliente1'): 535,\n",
       " ('B', 'Mayo', 'Cliente2'): 623,\n",
       " ('B', 'Junio', 'Cliente1'): 546,\n",
       " ('B', 'Junio', 'Cliente2'): 782,\n",
       " ('C', 'Enero', 'Cliente1'): 717,\n",
       " ('C', 'Enero', 'Cliente2'): 530,\n",
       " ('C', 'Febrero', 'Cliente1'): 923,\n",
       " ('C', 'Febrero', 'Cliente2'): 789,\n",
       " ('C', 'Marzo', 'Cliente1'): 563,\n",
       " ('C', 'Marzo', 'Cliente2'): 985,\n",
       " ('C', 'Abril', 'Cliente1'): 614,\n",
       " ('C', 'Abril', 'Cliente2'): 822,\n",
       " ('C', 'Mayo', 'Cliente1'): 821,\n",
       " ('C', 'Mayo', 'Cliente2'): 798,\n",
       " ('C', 'Junio', 'Cliente1'): 985,\n",
       " ('C', 'Junio', 'Cliente2'): 531,\n",
       " ('D', 'Enero', 'Cliente1'): 795,\n",
       " ('D', 'Enero', 'Cliente2'): 799,\n",
       " ('D', 'Febrero', 'Cliente1'): 703,\n",
       " ('D', 'Febrero', 'Cliente2'): 525,\n",
       " ('D', 'Marzo', 'Cliente1'): 999,\n",
       " ('D', 'Marzo', 'Cliente2'): 613,\n",
       " ('D', 'Abril', 'Cliente1'): 523,\n",
       " ('D', 'Abril', 'Cliente2'): 785,\n",
       " ('D', 'Mayo', 'Cliente1'): 939,\n",
       " ('D', 'Mayo', 'Cliente2'): 568,\n",
       " ('D', 'Junio', 'Cliente1'): 648,\n",
       " ('D', 'Junio', 'Cliente2'): 714,\n",
       " ('E', 'Enero', 'Cliente1'): 573,\n",
       " ('E', 'Enero', 'Cliente2'): 776,\n",
       " ('E', 'Febrero', 'Cliente1'): 560,\n",
       " ('E', 'Febrero', 'Cliente2'): 792,\n",
       " ('E', 'Marzo', 'Cliente1'): 657,\n",
       " ('E', 'Marzo', 'Cliente2'): 786,\n",
       " ('E', 'Abril', 'Cliente1'): 917,\n",
       " ('E', 'Abril', 'Cliente2'): 849,\n",
       " ('E', 'Mayo', 'Cliente1'): 592,\n",
       " ('E', 'Mayo', 'Cliente2'): 552,\n",
       " ('E', 'Junio', 'Cliente1'): 797,\n",
       " ('E', 'Junio', 'Cliente2'): 792,\n",
       " ('F', 'Enero', 'Cliente1'): 827,\n",
       " ('F', 'Enero', 'Cliente2'): 596,\n",
       " ('F', 'Febrero', 'Cliente1'): 690,\n",
       " ('F', 'Febrero', 'Cliente2'): 549,\n",
       " ('F', 'Marzo', 'Cliente1'): 780,\n",
       " ('F', 'Marzo', 'Cliente2'): 864,\n",
       " ('F', 'Abril', 'Cliente1'): 532,\n",
       " ('F', 'Abril', 'Cliente2'): 788,\n",
       " ('F', 'Mayo', 'Cliente1'): 530,\n",
       " ('F', 'Mayo', 'Cliente2'): 816,\n",
       " ('F', 'Junio', 'Cliente1'): 605,\n",
       " ('F', 'Junio', 'Cliente2'): 754}"
      ]
     },
     "execution_count": 39,
     "metadata": {},
     "output_type": "execute_result"
    }
   ],
   "source": [
    "# Demanda por periodo de cada cliente de cada producto.\n",
    "\n",
    "demanda_cliente = {(pr, pe, c): random.randint(500, 1000) for pr in productos for pe in periodos for c in clientes}\n",
    "\n",
    "demanda_cliente"
   ]
  },
  {
   "cell_type": "code",
   "execution_count": 40,
   "metadata": {},
   "outputs": [
    {
     "data": {
      "text/plain": [
       "{'A': 20, 'B': 19, 'C': 18, 'D': 17, 'E': 18, 'F': 19}"
      ]
     },
     "execution_count": 40,
     "metadata": {},
     "output_type": "execute_result"
    }
   ],
   "source": [
    "# Costo de producción: ¿Cuánto cuesta producir cada uno de los productos?\n",
    "\n",
    "costo_produccion = {p: random.randint(15,20) for p in productos}\n",
    "\n",
    "costo_produccion"
   ]
  },
  {
   "cell_type": "code",
   "execution_count": 41,
   "metadata": {},
   "outputs": [
    {
     "data": {
      "text/plain": [
       "{('A', 'Proveedor1'): 8,\n",
       " ('A', 'Proveedor2'): 7,\n",
       " ('B', 'Proveedor1'): 7,\n",
       " ('B', 'Proveedor2'): 6,\n",
       " ('C', 'Proveedor1'): 6,\n",
       " ('C', 'Proveedor2'): 10,\n",
       " ('D', 'Proveedor1'): 6,\n",
       " ('D', 'Proveedor2'): 5,\n",
       " ('E', 'Proveedor1'): 9,\n",
       " ('E', 'Proveedor2'): 7,\n",
       " ('F', 'Proveedor1'): 9,\n",
       " ('F', 'Proveedor2'): 8}"
      ]
     },
     "execution_count": 41,
     "metadata": {},
     "output_type": "execute_result"
    }
   ],
   "source": [
    "# Costo del material: ¿Cuánto cuesta obtener cada uno de los productos con cada uno de los proveedores?\n",
    "\n",
    "costo_material = {(prod, prov): random.randint(5, 10) for prod in productos for prov in proveedores}\n",
    "\n",
    "costo_material"
   ]
  },
  {
   "cell_type": "code",
   "execution_count": 42,
   "metadata": {},
   "outputs": [
    {
     "data": {
      "text/plain": [
       "{('A', 'Enero', 'Proveedor1'): 1896,\n",
       " ('A', 'Enero', 'Proveedor2'): 1351,\n",
       " ('A', 'Febrero', 'Proveedor1'): 1746,\n",
       " ('A', 'Febrero', 'Proveedor2'): 1459,\n",
       " ('A', 'Marzo', 'Proveedor1'): 1294,\n",
       " ('A', 'Marzo', 'Proveedor2'): 1623,\n",
       " ('A', 'Abril', 'Proveedor1'): 1074,\n",
       " ('A', 'Abril', 'Proveedor2'): 1120,\n",
       " ('A', 'Mayo', 'Proveedor1'): 1524,\n",
       " ('A', 'Mayo', 'Proveedor2'): 1428,\n",
       " ('A', 'Junio', 'Proveedor1'): 1168,\n",
       " ('A', 'Junio', 'Proveedor2'): 1775,\n",
       " ('B', 'Enero', 'Proveedor1'): 1350,\n",
       " ('B', 'Enero', 'Proveedor2'): 1155,\n",
       " ('B', 'Febrero', 'Proveedor1'): 1955,\n",
       " ('B', 'Febrero', 'Proveedor2'): 1500,\n",
       " ('B', 'Marzo', 'Proveedor1'): 1431,\n",
       " ('B', 'Marzo', 'Proveedor2'): 1040,\n",
       " ('B', 'Abril', 'Proveedor1'): 1985,\n",
       " ('B', 'Abril', 'Proveedor2'): 1684,\n",
       " ('B', 'Mayo', 'Proveedor1'): 1079,\n",
       " ('B', 'Mayo', 'Proveedor2'): 1782,\n",
       " ('B', 'Junio', 'Proveedor1'): 1571,\n",
       " ('B', 'Junio', 'Proveedor2'): 1586,\n",
       " ('C', 'Enero', 'Proveedor1'): 1808,\n",
       " ('C', 'Enero', 'Proveedor2'): 1896,\n",
       " ('C', 'Febrero', 'Proveedor1'): 1837,\n",
       " ('C', 'Febrero', 'Proveedor2'): 1321,\n",
       " ('C', 'Marzo', 'Proveedor1'): 1348,\n",
       " ('C', 'Marzo', 'Proveedor2'): 1711,\n",
       " ('C', 'Abril', 'Proveedor1'): 1358,\n",
       " ('C', 'Abril', 'Proveedor2'): 1608,\n",
       " ('C', 'Mayo', 'Proveedor1'): 1508,\n",
       " ('C', 'Mayo', 'Proveedor2'): 1593,\n",
       " ('C', 'Junio', 'Proveedor1'): 1816,\n",
       " ('C', 'Junio', 'Proveedor2'): 1467,\n",
       " ('D', 'Enero', 'Proveedor1'): 1070,\n",
       " ('D', 'Enero', 'Proveedor2'): 1860,\n",
       " ('D', 'Febrero', 'Proveedor1'): 1095,\n",
       " ('D', 'Febrero', 'Proveedor2'): 1967,\n",
       " ('D', 'Marzo', 'Proveedor1'): 1276,\n",
       " ('D', 'Marzo', 'Proveedor2'): 1485,\n",
       " ('D', 'Abril', 'Proveedor1'): 1713,\n",
       " ('D', 'Abril', 'Proveedor2'): 1680,\n",
       " ('D', 'Mayo', 'Proveedor1'): 1066,\n",
       " ('D', 'Mayo', 'Proveedor2'): 1062,\n",
       " ('D', 'Junio', 'Proveedor1'): 1748,\n",
       " ('D', 'Junio', 'Proveedor2'): 1718,\n",
       " ('E', 'Enero', 'Proveedor1'): 1317,\n",
       " ('E', 'Enero', 'Proveedor2'): 1662,\n",
       " ('E', 'Febrero', 'Proveedor1'): 1591,\n",
       " ('E', 'Febrero', 'Proveedor2'): 1697,\n",
       " ('E', 'Marzo', 'Proveedor1'): 1841,\n",
       " ('E', 'Marzo', 'Proveedor2'): 1456,\n",
       " ('E', 'Abril', 'Proveedor1'): 1291,\n",
       " ('E', 'Abril', 'Proveedor2'): 1733,\n",
       " ('E', 'Mayo', 'Proveedor1'): 1395,\n",
       " ('E', 'Mayo', 'Proveedor2'): 1908,\n",
       " ('E', 'Junio', 'Proveedor1'): 1684,\n",
       " ('E', 'Junio', 'Proveedor2'): 1355,\n",
       " ('F', 'Enero', 'Proveedor1'): 1023,\n",
       " ('F', 'Enero', 'Proveedor2'): 1963,\n",
       " ('F', 'Febrero', 'Proveedor1'): 1472,\n",
       " ('F', 'Febrero', 'Proveedor2'): 1363,\n",
       " ('F', 'Marzo', 'Proveedor1'): 1172,\n",
       " ('F', 'Marzo', 'Proveedor2'): 1625,\n",
       " ('F', 'Abril', 'Proveedor1'): 1119,\n",
       " ('F', 'Abril', 'Proveedor2'): 1505,\n",
       " ('F', 'Mayo', 'Proveedor1'): 1060,\n",
       " ('F', 'Mayo', 'Proveedor2'): 1223,\n",
       " ('F', 'Junio', 'Proveedor1'): 1786,\n",
       " ('F', 'Junio', 'Proveedor2'): 1294}"
      ]
     },
     "execution_count": 42,
     "metadata": {},
     "output_type": "execute_result"
    }
   ],
   "source": [
    "# Capacidad del proveedor: ¿Cuántas unidades de cada producto puede generar cada proveedor en cada periodo?\n",
    "\n",
    "capacidad_proveedor = {(prod, per, prov): random.randint(1000, 2000) for prod in productos for per in periodos for prov in proveedores}\n",
    "\n",
    "capacidad_proveedor"
   ]
  },
  {
   "cell_type": "code",
   "execution_count": 43,
   "metadata": {},
   "outputs": [
    {
     "data": {
      "text/plain": [
       "{('A', 'Cliente1'): 108,\n",
       " ('A', 'Cliente2'): 147,\n",
       " ('B', 'Cliente1'): 115,\n",
       " ('B', 'Cliente2'): 125,\n",
       " ('C', 'Cliente1'): 125,\n",
       " ('C', 'Cliente2'): 131,\n",
       " ('D', 'Cliente1'): 105,\n",
       " ('D', 'Cliente2'): 110,\n",
       " ('E', 'Cliente1'): 128,\n",
       " ('E', 'Cliente2'): 125,\n",
       " ('F', 'Cliente1'): 135,\n",
       " ('F', 'Cliente2'): 117}"
      ]
     },
     "execution_count": 43,
     "metadata": {},
     "output_type": "execute_result"
    }
   ],
   "source": [
    "# Ingreso por venta: ¿Cuánto paga cada cliente por cada uno de los productos?\n",
    "\n",
    "ingreso_venta = {(p, c): random.randint(100, 150) for p in productos for c in clientes}\n",
    "\n",
    "ingreso_venta"
   ]
  },
  {
   "cell_type": "code",
   "execution_count": 44,
   "metadata": {},
   "outputs": [
    {
     "data": {
      "text/plain": [
       "{'A': 2, 'B': 4, 'C': 5, 'D': 3, 'E': 4, 'F': 3}"
      ]
     },
     "execution_count": 44,
     "metadata": {},
     "output_type": "execute_result"
    }
   ],
   "source": [
    "# Costo de mantenimiento: ¿Cuánto cuesta mantener cada uno de los productos dentro del inventario?\n",
    "\n",
    "costo_mantenimiento = {p: random.randint(1, 5) for p in productos}\n",
    "\n",
    "costo_mantenimiento"
   ]
  },
  {
   "cell_type": "code",
   "execution_count": 45,
   "metadata": {},
   "outputs": [],
   "source": [
    "# Costo de mano de obra en tiempo de jornada regular y en horas extra.\n",
    "\n",
    "costo_mano_obra = 15\n",
    "costo_mano_obra_extra = 25"
   ]
  },
  {
   "cell_type": "code",
   "execution_count": 46,
   "metadata": {},
   "outputs": [
    {
     "data": {
      "text/plain": [
       "{('A', 'Planta1'): 187,\n",
       " ('A', 'Planta2'): 148,\n",
       " ('B', 'Planta1'): 129,\n",
       " ('B', 'Planta2'): 119,\n",
       " ('C', 'Planta1'): 110,\n",
       " ('C', 'Planta2'): 122,\n",
       " ('D', 'Planta1'): 119,\n",
       " ('D', 'Planta2'): 129,\n",
       " ('E', 'Planta1'): 184,\n",
       " ('E', 'Planta2'): 129,\n",
       " ('F', 'Planta1'): 101,\n",
       " ('F', 'Planta2'): 162}"
      ]
     },
     "execution_count": 46,
     "metadata": {},
     "output_type": "execute_result"
    }
   ],
   "source": [
    "# Inventario inicial: ¿Cuántas unidades se tienen al inicio de cada periodo?\n",
    "\n",
    "inventario_inicial = {(pr, pl): random.randint(100, 200) for pr in productos for pl in plantas}\n",
    "\n",
    "inventario_inicial"
   ]
  },
  {
   "cell_type": "code",
   "execution_count": 47,
   "metadata": {},
   "outputs": [
    {
     "data": {
      "text/plain": [
       "{'A': 3, 'B': 5, 'C': 5, 'D': 1, 'E': 3, 'F': 7}"
      ]
     },
     "execution_count": 47,
     "metadata": {},
     "output_type": "execute_result"
    }
   ],
   "source": [
    "# Horas por unidad: Tiempo requerido por unidad para cada producto\n",
    "\n",
    "horas_por_unidad = {p: random.randint(1, 8) for p in productos}\n",
    "\n",
    "horas_por_unidad"
   ]
  },
  {
   "cell_type": "code",
   "execution_count": 48,
   "metadata": {},
   "outputs": [],
   "source": [
    "#Horas de trabajo máximo: Tiempo máximo que se puede dedicar a la producción.\n",
    "\n",
    "horas_trabajo_max = 50000"
   ]
  },
  {
   "cell_type": "markdown",
   "metadata": {},
   "source": [
    "# Definición del problema"
   ]
  },
  {
   "cell_type": "markdown",
   "metadata": {},
   "source": [
    "## Definición de las variables de decisión\n",
    "\n",
    "Aquellas que se tomarán en cuenta a lo largo de la resolución del problema y que surgen de la manipulación de las variables base."
   ]
  },
  {
   "cell_type": "code",
   "execution_count": 49,
   "metadata": {},
   "outputs": [],
   "source": [
    "# Variables de decisión\n",
    "\n",
    "x_vars = LpVariable.dicts(\"Produccion\", [(p, t, l) for p in productos for t in periodos for l in plantas], lowBound=0, cat='Continuous')\n",
    "y_vars = LpVariable.dicts(\"Venta\", [(p, t, c) for p in productos for t in periodos for c in clientes], lowBound=0, cat='Continuous')\n",
    "m_vars = LpVariable.dicts(\"Material_Comprado\", [(p, t, q) for p in productos for t in periodos for q in proveedores], lowBound=0, cat='Continuous')\n",
    "w_vars = LpVariable.dicts(\"Adquisicion_CEDIS\", [(p, t, w) for p in productos for t in periodos for w in cedis], lowBound=0, cat='Continuous')\n",
    "i_vars = LpVariable.dicts(\"Inventario\", [(p, t, l) for p in productos for t in periodos for l in plantas], lowBound=0, cat='Continuous')"
   ]
  },
  {
   "cell_type": "markdown",
   "metadata": {},
   "source": [
    "## Definición de la función objetivo:\n",
    "\n",
    "En este caso, maximizar las ganancias. Esto se obtendrá restando el costo de mantenimiento y el costo de producción a las ganancias obtenidas por cada producto."
   ]
  },
  {
   "cell_type": "code",
   "execution_count": 50,
   "metadata": {},
   "outputs": [],
   "source": [
    "# Crear el problema de maximización\n",
    "\n",
    "prob = LpProblem(\"Maximizar_Ganancias\", LpMaximize)"
   ]
  },
  {
   "cell_type": "code",
   "execution_count": 51,
   "metadata": {},
   "outputs": [],
   "source": [
    "# Se define la función objetivo\n",
    "\n",
    "prob += (lpSum([ingreso_venta.get((p, c), 0) * y_vars[p, t, c] for p in productos for t in periodos for c in clientes]) -\n",
    "         lpSum([costo_produccion.get((p, l), 0) * x_vars[p, t, l] for p in productos for t in periodos for l in plantas]) -\n",
    "         lpSum([costo_mantenimiento.get((p, w), 0) * w_vars[p, t, w] for p in productos for t in periodos for w in cedis]),\n",
    "         \"Beneficio_Total\")"
   ]
  },
  {
   "cell_type": "markdown",
   "metadata": {},
   "source": [
    "## Definición de las restricciones:\n",
    "\n",
    "Tales como restricciones de demanda, de capacidad, de almacenamiento y de inventario."
   ]
  },
  {
   "cell_type": "code",
   "execution_count": 52,
   "metadata": {},
   "outputs": [],
   "source": [
    "# Tipo de restricción: Capacidad del proveedor\n",
    "# Descripción: Limita la cantidad de materiales que un proveedor puede suministrar para un producto en un período de tiempo dado.\n",
    "# Comentario: Controla la capacidad de los proveedores y evita la saturación.\n",
    "\n",
    "for p in productos:\n",
    "    for t in periodos:\n",
    "        for q in proveedores:\n",
    "            capacidad = capacidad_proveedor.get((p, t, q), 0)  # Valor por defecto en caso de no encontrar la clave\n",
    "            prob += lpSum([m_vars[(p, t, q)]]) <= capacidad, f\"Capacidad_proveedor_{p}_{t}_{q}\"\n",
    "\n",
    "\n",
    "# Tipo de restricción: Balance de inventario\n",
    "# Descripción: Asegura que el inventario final sea igual al inventario inicial más la producción menos las ventas.\n",
    "# Comentario: Se utiliza para mantener un balance correcto del inventario.\n",
    "\n",
    "for p in productos:\n",
    "    for t in periodos:\n",
    "        for l in plantas:\n",
    "            # Asumiendo que `inventario_inicial` es un diccionario que contiene el inventario inicial por producto y planta\n",
    "            inventario_inicio = inventario_inicial.get((p, l), 0)\n",
    "            prob += (inventario_inicio + lpSum([x_vars[(p, t, l)]])) - lpSum([y_vars[(p, t, c)] for c in clientes]) == i_vars[(p, t, l)], f\"Inventario_final_{p}_{t}_{l}\"\n",
    "\n",
    "\n",
    "# Tipo de restricción: Capacidad de producción\n",
    "# Descripción: Limita la producción para no exceder la capacidad de almacenamiento de la planta.\n",
    "# Comentario: Ayuda a evitar la sobrecarga de las instalaciones de producción.\n",
    "\n",
    "for p in productos:\n",
    "    for t in periodos:\n",
    "        for l in plantas:\n",
    "            prob += lpSum([x_vars[(p, t, l)]]) <= capacidad_almacenaje[l], f\"Capacidad_produccion_{p}_{t}_{l}\"\n",
    "\n",
    "\n",
    "# Tipo de restricción: Uso máximo de materiales\n",
    "# Descripción: Limita la cantidad de materiales que se pueden comprar de un proveedor a la cantidad de materiales necesarios para la producción planificada.\n",
    "# Comentario: Evita el exceso de compra de materiales.\n",
    "\n",
    "for p in productos:\n",
    "    for t in periodos:\n",
    "        for q in proveedores:\n",
    "            prob += m_vars[(p, t, q)] <= lpSum([x_vars[(p, t, l)] for l in plantas]), f\"Material_uso_maximo_{p}_{t}_{q}\"\n",
    "\n",
    "\n",
    "# Tipo de restricción: Cumplimiento de demanda mínima\n",
    "# Descripción: Asegura que al menos se satisfaga una cierta cantidad de la demanda del cliente.\n",
    "# Comentario: Garantiza la satisfacción mínima de los clientes.\n",
    "\n",
    "for p in productos:\n",
    "    for t in periodos:\n",
    "        for c in clientes:\n",
    "            demanda_min = demanda_cliente.get((p, t, c), 0) * 0.9  # Por ejemplo, al menos el 90%\n",
    "            prob += lpSum([y_vars[(p, t, c)]]) >= demanda_min, f\"Cumplimiento_demanda_minima_{p}_{t}_{c}\"\n",
    "\n",
    "\n",
    "# Tipo de restricción: Horas de trabajo máximas\n",
    "# Descripción: Limita las horas de trabajo para no exceder un máximo establecido.\n",
    "# Comentario: Controla la carga laboral y el tiempo de producción.\n",
    "\n",
    "for p in productos:\n",
    "    for t in periodos:\n",
    "        for l in plantas:\n",
    "            prob += (lpSum([x_vars[(p, t, l)] * horas_por_unidad[p]]) <= horas_trabajo_max), f\"Horas_trabajo_{p}_{t}_{l}\""
   ]
  },
  {
   "cell_type": "markdown",
   "metadata": {},
   "source": [
    "# Resolución del problema"
   ]
  },
  {
   "cell_type": "code",
   "execution_count": 53,
   "metadata": {},
   "outputs": [
    {
     "data": {
      "text/plain": [
       "1"
      ]
     },
     "execution_count": 53,
     "metadata": {},
     "output_type": "execute_result"
    }
   ],
   "source": [
    "# Resolver el problema\n",
    "prob.solve()"
   ]
  },
  {
   "cell_type": "code",
   "execution_count": 54,
   "metadata": {},
   "outputs": [
    {
     "name": "stdout",
     "output_type": "stream",
     "text": [
      "Optimal\n"
     ]
    }
   ],
   "source": [
    "# Imprimir el estado de la solución\n",
    "print(LpStatus[prob.status])"
   ]
  },
  {
   "cell_type": "code",
   "execution_count": 55,
   "metadata": {},
   "outputs": [
    {
     "name": "stdout",
     "output_type": "stream",
     "text": [
      "Inventario_('A',_'Abril',_'Planta1') = 0.0\n",
      "Inventario_('A',_'Abril',_'Planta2') = 0.0\n",
      "Inventario_('A',_'Enero',_'Planta1') = 0.0\n",
      "Inventario_('A',_'Enero',_'Planta2') = 0.0\n",
      "Inventario_('A',_'Febrero',_'Planta1') = 0.0\n",
      "Inventario_('A',_'Febrero',_'Planta2') = 0.0\n",
      "Inventario_('A',_'Junio',_'Planta1') = 0.0\n",
      "Inventario_('A',_'Junio',_'Planta2') = 0.0\n",
      "Inventario_('A',_'Marzo',_'Planta1') = 0.0\n",
      "Inventario_('A',_'Marzo',_'Planta2') = 0.0\n",
      "Inventario_('A',_'Mayo',_'Planta1') = 0.0\n",
      "Inventario_('A',_'Mayo',_'Planta2') = 0.0\n",
      "Inventario_('B',_'Abril',_'Planta1') = 0.0\n",
      "Inventario_('B',_'Abril',_'Planta2') = 0.0\n",
      "Inventario_('B',_'Enero',_'Planta1') = 0.0\n",
      "Inventario_('B',_'Enero',_'Planta2') = 0.0\n",
      "Inventario_('B',_'Febrero',_'Planta1') = 0.0\n",
      "Inventario_('B',_'Febrero',_'Planta2') = 0.0\n",
      "Inventario_('B',_'Junio',_'Planta1') = 0.0\n",
      "Inventario_('B',_'Junio',_'Planta2') = 0.0\n",
      "Inventario_('B',_'Marzo',_'Planta1') = 0.0\n",
      "Inventario_('B',_'Marzo',_'Planta2') = 0.0\n",
      "Inventario_('B',_'Mayo',_'Planta1') = 0.0\n",
      "Inventario_('B',_'Mayo',_'Planta2') = 0.0\n",
      "Inventario_('C',_'Abril',_'Planta1') = 0.0\n",
      "Inventario_('C',_'Abril',_'Planta2') = 0.0\n",
      "Inventario_('C',_'Enero',_'Planta1') = 0.0\n",
      "Inventario_('C',_'Enero',_'Planta2') = 0.0\n",
      "Inventario_('C',_'Febrero',_'Planta1') = 0.0\n",
      "Inventario_('C',_'Febrero',_'Planta2') = 0.0\n",
      "Inventario_('C',_'Junio',_'Planta1') = 0.0\n",
      "Inventario_('C',_'Junio',_'Planta2') = 0.0\n",
      "Inventario_('C',_'Marzo',_'Planta1') = 0.0\n",
      "Inventario_('C',_'Marzo',_'Planta2') = 0.0\n",
      "Inventario_('C',_'Mayo',_'Planta1') = 0.0\n",
      "Inventario_('C',_'Mayo',_'Planta2') = 0.0\n",
      "Inventario_('D',_'Abril',_'Planta1') = 0.0\n",
      "Inventario_('D',_'Abril',_'Planta2') = 0.0\n",
      "Inventario_('D',_'Enero',_'Planta1') = 0.0\n",
      "Inventario_('D',_'Enero',_'Planta2') = 0.0\n",
      "Inventario_('D',_'Febrero',_'Planta1') = 0.0\n",
      "Inventario_('D',_'Febrero',_'Planta2') = 0.0\n",
      "Inventario_('D',_'Junio',_'Planta1') = 0.0\n",
      "Inventario_('D',_'Junio',_'Planta2') = 0.0\n",
      "Inventario_('D',_'Marzo',_'Planta1') = 0.0\n",
      "Inventario_('D',_'Marzo',_'Planta2') = 0.0\n",
      "Inventario_('D',_'Mayo',_'Planta1') = 0.0\n",
      "Inventario_('D',_'Mayo',_'Planta2') = 0.0\n",
      "Inventario_('E',_'Abril',_'Planta1') = 0.0\n",
      "Inventario_('E',_'Abril',_'Planta2') = 0.0\n",
      "Inventario_('E',_'Enero',_'Planta1') = 0.0\n",
      "Inventario_('E',_'Enero',_'Planta2') = 0.0\n",
      "Inventario_('E',_'Febrero',_'Planta1') = 0.0\n",
      "Inventario_('E',_'Febrero',_'Planta2') = 0.0\n",
      "Inventario_('E',_'Junio',_'Planta1') = 0.0\n",
      "Inventario_('E',_'Junio',_'Planta2') = 0.0\n",
      "Inventario_('E',_'Marzo',_'Planta1') = 0.0\n",
      "Inventario_('E',_'Marzo',_'Planta2') = 0.0\n",
      "Inventario_('E',_'Mayo',_'Planta1') = 0.0\n",
      "Inventario_('E',_'Mayo',_'Planta2') = 0.0\n",
      "Inventario_('F',_'Abril',_'Planta1') = 0.0\n",
      "Inventario_('F',_'Abril',_'Planta2') = 0.0\n",
      "Inventario_('F',_'Enero',_'Planta1') = 0.0\n",
      "Inventario_('F',_'Enero',_'Planta2') = 0.0\n",
      "Inventario_('F',_'Febrero',_'Planta1') = 0.0\n",
      "Inventario_('F',_'Febrero',_'Planta2') = 0.0\n",
      "Inventario_('F',_'Junio',_'Planta1') = 0.0\n",
      "Inventario_('F',_'Junio',_'Planta2') = 0.0\n",
      "Inventario_('F',_'Marzo',_'Planta1') = 0.0\n",
      "Inventario_('F',_'Marzo',_'Planta2') = 0.0\n",
      "Inventario_('F',_'Mayo',_'Planta1') = 0.0\n",
      "Inventario_('F',_'Mayo',_'Planta2') = 0.0\n",
      "Material_Comprado_('A',_'Abril',_'Proveedor1') = 0.0\n",
      "Material_Comprado_('A',_'Abril',_'Proveedor2') = 0.0\n",
      "Material_Comprado_('A',_'Enero',_'Proveedor1') = 0.0\n",
      "Material_Comprado_('A',_'Enero',_'Proveedor2') = 0.0\n",
      "Material_Comprado_('A',_'Febrero',_'Proveedor1') = 0.0\n",
      "Material_Comprado_('A',_'Febrero',_'Proveedor2') = 0.0\n",
      "Material_Comprado_('A',_'Junio',_'Proveedor1') = 0.0\n",
      "Material_Comprado_('A',_'Junio',_'Proveedor2') = 0.0\n",
      "Material_Comprado_('A',_'Marzo',_'Proveedor1') = 0.0\n",
      "Material_Comprado_('A',_'Marzo',_'Proveedor2') = 0.0\n",
      "Material_Comprado_('A',_'Mayo',_'Proveedor1') = 0.0\n",
      "Material_Comprado_('A',_'Mayo',_'Proveedor2') = 0.0\n",
      "Material_Comprado_('B',_'Abril',_'Proveedor1') = 0.0\n",
      "Material_Comprado_('B',_'Abril',_'Proveedor2') = 0.0\n",
      "Material_Comprado_('B',_'Enero',_'Proveedor1') = 0.0\n",
      "Material_Comprado_('B',_'Enero',_'Proveedor2') = 0.0\n",
      "Material_Comprado_('B',_'Febrero',_'Proveedor1') = 0.0\n",
      "Material_Comprado_('B',_'Febrero',_'Proveedor2') = 0.0\n",
      "Material_Comprado_('B',_'Junio',_'Proveedor1') = 0.0\n",
      "Material_Comprado_('B',_'Junio',_'Proveedor2') = 0.0\n",
      "Material_Comprado_('B',_'Marzo',_'Proveedor1') = 0.0\n",
      "Material_Comprado_('B',_'Marzo',_'Proveedor2') = 0.0\n",
      "Material_Comprado_('B',_'Mayo',_'Proveedor1') = 0.0\n",
      "Material_Comprado_('B',_'Mayo',_'Proveedor2') = 0.0\n",
      "Material_Comprado_('C',_'Abril',_'Proveedor1') = 0.0\n",
      "Material_Comprado_('C',_'Abril',_'Proveedor2') = 0.0\n",
      "Material_Comprado_('C',_'Enero',_'Proveedor1') = 0.0\n",
      "Material_Comprado_('C',_'Enero',_'Proveedor2') = 0.0\n",
      "Material_Comprado_('C',_'Febrero',_'Proveedor1') = 0.0\n",
      "Material_Comprado_('C',_'Febrero',_'Proveedor2') = 0.0\n",
      "Material_Comprado_('C',_'Junio',_'Proveedor1') = 0.0\n",
      "Material_Comprado_('C',_'Junio',_'Proveedor2') = 0.0\n",
      "Material_Comprado_('C',_'Marzo',_'Proveedor1') = 0.0\n",
      "Material_Comprado_('C',_'Marzo',_'Proveedor2') = 0.0\n",
      "Material_Comprado_('C',_'Mayo',_'Proveedor1') = 0.0\n",
      "Material_Comprado_('C',_'Mayo',_'Proveedor2') = 0.0\n",
      "Material_Comprado_('D',_'Abril',_'Proveedor1') = 0.0\n",
      "Material_Comprado_('D',_'Abril',_'Proveedor2') = 0.0\n",
      "Material_Comprado_('D',_'Enero',_'Proveedor1') = 0.0\n",
      "Material_Comprado_('D',_'Enero',_'Proveedor2') = 0.0\n",
      "Material_Comprado_('D',_'Febrero',_'Proveedor1') = 0.0\n",
      "Material_Comprado_('D',_'Febrero',_'Proveedor2') = 0.0\n",
      "Material_Comprado_('D',_'Junio',_'Proveedor1') = 0.0\n",
      "Material_Comprado_('D',_'Junio',_'Proveedor2') = 0.0\n",
      "Material_Comprado_('D',_'Marzo',_'Proveedor1') = 0.0\n",
      "Material_Comprado_('D',_'Marzo',_'Proveedor2') = 0.0\n",
      "Material_Comprado_('D',_'Mayo',_'Proveedor1') = 0.0\n",
      "Material_Comprado_('D',_'Mayo',_'Proveedor2') = 0.0\n",
      "Material_Comprado_('E',_'Abril',_'Proveedor1') = 0.0\n",
      "Material_Comprado_('E',_'Abril',_'Proveedor2') = 0.0\n",
      "Material_Comprado_('E',_'Enero',_'Proveedor1') = 0.0\n",
      "Material_Comprado_('E',_'Enero',_'Proveedor2') = 0.0\n",
      "Material_Comprado_('E',_'Febrero',_'Proveedor1') = 0.0\n",
      "Material_Comprado_('E',_'Febrero',_'Proveedor2') = 0.0\n",
      "Material_Comprado_('E',_'Junio',_'Proveedor1') = 0.0\n",
      "Material_Comprado_('E',_'Junio',_'Proveedor2') = 0.0\n",
      "Material_Comprado_('E',_'Marzo',_'Proveedor1') = 0.0\n",
      "Material_Comprado_('E',_'Marzo',_'Proveedor2') = 0.0\n",
      "Material_Comprado_('E',_'Mayo',_'Proveedor1') = 0.0\n",
      "Material_Comprado_('E',_'Mayo',_'Proveedor2') = 0.0\n",
      "Material_Comprado_('F',_'Abril',_'Proveedor1') = 0.0\n",
      "Material_Comprado_('F',_'Abril',_'Proveedor2') = 0.0\n",
      "Material_Comprado_('F',_'Enero',_'Proveedor1') = 0.0\n",
      "Material_Comprado_('F',_'Enero',_'Proveedor2') = 0.0\n",
      "Material_Comprado_('F',_'Febrero',_'Proveedor1') = 0.0\n",
      "Material_Comprado_('F',_'Febrero',_'Proveedor2') = 0.0\n",
      "Material_Comprado_('F',_'Junio',_'Proveedor1') = 0.0\n",
      "Material_Comprado_('F',_'Junio',_'Proveedor2') = 0.0\n",
      "Material_Comprado_('F',_'Marzo',_'Proveedor1') = 0.0\n",
      "Material_Comprado_('F',_'Marzo',_'Proveedor2') = 0.0\n",
      "Material_Comprado_('F',_'Mayo',_'Proveedor1') = 0.0\n",
      "Material_Comprado_('F',_'Mayo',_'Proveedor2') = 0.0\n",
      "Produccion_('A',_'Abril',_'Planta1') = 5000.0\n",
      "Produccion_('A',_'Abril',_'Planta2') = 5039.0\n",
      "Produccion_('A',_'Enero',_'Planta1') = 5000.0\n",
      "Produccion_('A',_'Enero',_'Planta2') = 5039.0\n",
      "Produccion_('A',_'Febrero',_'Planta1') = 5000.0\n",
      "Produccion_('A',_'Febrero',_'Planta2') = 5039.0\n",
      "Produccion_('A',_'Junio',_'Planta1') = 5000.0\n",
      "Produccion_('A',_'Junio',_'Planta2') = 5039.0\n",
      "Produccion_('A',_'Marzo',_'Planta1') = 5000.0\n",
      "Produccion_('A',_'Marzo',_'Planta2') = 5039.0\n",
      "Produccion_('A',_'Mayo',_'Planta1') = 5000.0\n",
      "Produccion_('A',_'Mayo',_'Planta2') = 5039.0\n",
      "Produccion_('B',_'Abril',_'Planta1') = 5000.0\n",
      "Produccion_('B',_'Abril',_'Planta2') = 5010.0\n",
      "Produccion_('B',_'Enero',_'Planta1') = 5000.0\n",
      "Produccion_('B',_'Enero',_'Planta2') = 5010.0\n",
      "Produccion_('B',_'Febrero',_'Planta1') = 5000.0\n",
      "Produccion_('B',_'Febrero',_'Planta2') = 5010.0\n",
      "Produccion_('B',_'Junio',_'Planta1') = 5000.0\n",
      "Produccion_('B',_'Junio',_'Planta2') = 5010.0\n",
      "Produccion_('B',_'Marzo',_'Planta1') = 5000.0\n",
      "Produccion_('B',_'Marzo',_'Planta2') = 5010.0\n",
      "Produccion_('B',_'Mayo',_'Planta1') = 5000.0\n",
      "Produccion_('B',_'Mayo',_'Planta2') = 5010.0\n",
      "Produccion_('C',_'Abril',_'Planta1') = 5000.0\n",
      "Produccion_('C',_'Abril',_'Planta2') = 4988.0\n",
      "Produccion_('C',_'Enero',_'Planta1') = 5000.0\n",
      "Produccion_('C',_'Enero',_'Planta2') = 4988.0\n",
      "Produccion_('C',_'Febrero',_'Planta1') = 5000.0\n",
      "Produccion_('C',_'Febrero',_'Planta2') = 4988.0\n",
      "Produccion_('C',_'Junio',_'Planta1') = 5000.0\n",
      "Produccion_('C',_'Junio',_'Planta2') = 4988.0\n",
      "Produccion_('C',_'Marzo',_'Planta1') = 5000.0\n",
      "Produccion_('C',_'Marzo',_'Planta2') = 4988.0\n",
      "Produccion_('C',_'Mayo',_'Planta1') = 5000.0\n",
      "Produccion_('C',_'Mayo',_'Planta2') = 4988.0\n",
      "Produccion_('D',_'Abril',_'Planta1') = 5000.0\n",
      "Produccion_('D',_'Abril',_'Planta2') = 4990.0\n",
      "Produccion_('D',_'Enero',_'Planta1') = 5000.0\n",
      "Produccion_('D',_'Enero',_'Planta2') = 4990.0\n",
      "Produccion_('D',_'Febrero',_'Planta1') = 5000.0\n",
      "Produccion_('D',_'Febrero',_'Planta2') = 4990.0\n",
      "Produccion_('D',_'Junio',_'Planta1') = 5000.0\n",
      "Produccion_('D',_'Junio',_'Planta2') = 4990.0\n",
      "Produccion_('D',_'Marzo',_'Planta1') = 5000.0\n",
      "Produccion_('D',_'Marzo',_'Planta2') = 4990.0\n",
      "Produccion_('D',_'Mayo',_'Planta1') = 5000.0\n",
      "Produccion_('D',_'Mayo',_'Planta2') = 4990.0\n",
      "Produccion_('E',_'Abril',_'Planta1') = 5000.0\n",
      "Produccion_('E',_'Abril',_'Planta2') = 5055.0\n",
      "Produccion_('E',_'Enero',_'Planta1') = 5000.0\n",
      "Produccion_('E',_'Enero',_'Planta2') = 5055.0\n",
      "Produccion_('E',_'Febrero',_'Planta1') = 5000.0\n",
      "Produccion_('E',_'Febrero',_'Planta2') = 5055.0\n",
      "Produccion_('E',_'Junio',_'Planta1') = 5000.0\n",
      "Produccion_('E',_'Junio',_'Planta2') = 5055.0\n",
      "Produccion_('E',_'Marzo',_'Planta1') = 5000.0\n",
      "Produccion_('E',_'Marzo',_'Planta2') = 5055.0\n",
      "Produccion_('E',_'Mayo',_'Planta1') = 5000.0\n",
      "Produccion_('E',_'Mayo',_'Planta2') = 5055.0\n",
      "Produccion_('F',_'Abril',_'Planta1') = 5000.0\n",
      "Produccion_('F',_'Abril',_'Planta2') = 4939.0\n",
      "Produccion_('F',_'Enero',_'Planta1') = 5000.0\n",
      "Produccion_('F',_'Enero',_'Planta2') = 4939.0\n",
      "Produccion_('F',_'Febrero',_'Planta1') = 5000.0\n",
      "Produccion_('F',_'Febrero',_'Planta2') = 4939.0\n",
      "Produccion_('F',_'Junio',_'Planta1') = 5000.0\n",
      "Produccion_('F',_'Junio',_'Planta2') = 4939.0\n",
      "Produccion_('F',_'Marzo',_'Planta1') = 5000.0\n",
      "Produccion_('F',_'Marzo',_'Planta2') = 4939.0\n",
      "Produccion_('F',_'Mayo',_'Planta1') = 5000.0\n",
      "Produccion_('F',_'Mayo',_'Planta2') = 4939.0\n",
      "Venta_('A',_'Abril',_'Cliente1') = 483.3\n",
      "Venta_('A',_'Abril',_'Cliente2') = 4703.7\n",
      "Venta_('A',_'Enero',_'Cliente1') = 598.5\n",
      "Venta_('A',_'Enero',_'Cliente2') = 4588.5\n",
      "Venta_('A',_'Febrero',_'Cliente1') = 519.3\n",
      "Venta_('A',_'Febrero',_'Cliente2') = 4667.7\n",
      "Venta_('A',_'Junio',_'Cliente1') = 618.3\n",
      "Venta_('A',_'Junio',_'Cliente2') = 4568.7\n",
      "Venta_('A',_'Marzo',_'Cliente1') = 749.7\n",
      "Venta_('A',_'Marzo',_'Cliente2') = 4437.3\n",
      "Venta_('A',_'Mayo',_'Cliente1') = 696.6\n",
      "Venta_('A',_'Mayo',_'Cliente2') = 4490.4\n",
      "Venta_('B',_'Abril',_'Cliente1') = 649.8\n",
      "Venta_('B',_'Abril',_'Cliente2') = 4479.2\n",
      "Venta_('B',_'Enero',_'Cliente1') = 476.1\n",
      "Venta_('B',_'Enero',_'Cliente2') = 4652.9\n",
      "Venta_('B',_'Febrero',_'Cliente1') = 683.1\n",
      "Venta_('B',_'Febrero',_'Cliente2') = 4445.9\n",
      "Venta_('B',_'Junio',_'Cliente1') = 491.4\n",
      "Venta_('B',_'Junio',_'Cliente2') = 4637.6\n",
      "Venta_('B',_'Marzo',_'Cliente1') = 467.1\n",
      "Venta_('B',_'Marzo',_'Cliente2') = 4661.9\n",
      "Venta_('B',_'Mayo',_'Cliente1') = 481.5\n",
      "Venta_('B',_'Mayo',_'Cliente2') = 4647.5\n",
      "Venta_('C',_'Abril',_'Cliente1') = 552.6\n",
      "Venta_('C',_'Abril',_'Cliente2') = 4557.4\n",
      "Venta_('C',_'Enero',_'Cliente1') = 645.3\n",
      "Venta_('C',_'Enero',_'Cliente2') = 4464.7\n",
      "Venta_('C',_'Febrero',_'Cliente1') = 830.7\n",
      "Venta_('C',_'Febrero',_'Cliente2') = 4279.3\n",
      "Venta_('C',_'Junio',_'Cliente1') = 886.5\n",
      "Venta_('C',_'Junio',_'Cliente2') = 4223.5\n",
      "Venta_('C',_'Marzo',_'Cliente1') = 506.7\n",
      "Venta_('C',_'Marzo',_'Cliente2') = 4603.3\n",
      "Venta_('C',_'Mayo',_'Cliente1') = 738.9\n",
      "Venta_('C',_'Mayo',_'Cliente2') = 4371.1\n",
      "Venta_('D',_'Abril',_'Cliente1') = 470.7\n",
      "Venta_('D',_'Abril',_'Cliente2') = 4648.3\n",
      "Venta_('D',_'Enero',_'Cliente1') = 715.5\n",
      "Venta_('D',_'Enero',_'Cliente2') = 4403.5\n",
      "Venta_('D',_'Febrero',_'Cliente1') = 632.7\n",
      "Venta_('D',_'Febrero',_'Cliente2') = 4486.3\n",
      "Venta_('D',_'Junio',_'Cliente1') = 583.2\n",
      "Venta_('D',_'Junio',_'Cliente2') = 4535.8\n",
      "Venta_('D',_'Marzo',_'Cliente1') = 899.1\n",
      "Venta_('D',_'Marzo',_'Cliente2') = 4219.9\n",
      "Venta_('D',_'Mayo',_'Cliente1') = 845.1\n",
      "Venta_('D',_'Mayo',_'Cliente2') = 4273.9\n",
      "Venta_('E',_'Abril',_'Cliente1') = 4419.9\n",
      "Venta_('E',_'Abril',_'Cliente2') = 764.1\n",
      "Venta_('E',_'Enero',_'Cliente1') = 4485.6\n",
      "Venta_('E',_'Enero',_'Cliente2') = 698.4\n",
      "Venta_('E',_'Febrero',_'Cliente1') = 4471.2\n",
      "Venta_('E',_'Febrero',_'Cliente2') = 712.8\n",
      "Venta_('E',_'Junio',_'Cliente1') = 4471.2\n",
      "Venta_('E',_'Junio',_'Cliente2') = 712.8\n",
      "Venta_('E',_'Marzo',_'Cliente1') = 4476.6\n",
      "Venta_('E',_'Marzo',_'Cliente2') = 707.4\n",
      "Venta_('E',_'Mayo',_'Cliente1') = 4687.2\n",
      "Venta_('E',_'Mayo',_'Cliente2') = 496.8\n",
      "Venta_('F',_'Abril',_'Cliente1') = 4391.8\n",
      "Venta_('F',_'Abril',_'Cliente2') = 709.2\n",
      "Venta_('F',_'Enero',_'Cliente1') = 4564.6\n",
      "Venta_('F',_'Enero',_'Cliente2') = 536.4\n",
      "Venta_('F',_'Febrero',_'Cliente1') = 4606.9\n",
      "Venta_('F',_'Febrero',_'Cliente2') = 494.1\n",
      "Venta_('F',_'Junio',_'Cliente1') = 4422.4\n",
      "Venta_('F',_'Junio',_'Cliente2') = 678.6\n",
      "Venta_('F',_'Marzo',_'Cliente1') = 4323.4\n",
      "Venta_('F',_'Marzo',_'Cliente2') = 777.6\n",
      "Venta_('F',_'Mayo',_'Cliente1') = 4366.6\n",
      "Venta_('F',_'Mayo',_'Cliente2') = 734.4\n"
     ]
    }
   ],
   "source": [
    "# Imprimir los valores de las variables de decisión\n",
    "for v in prob.variables():\n",
    "    print(v.name, \"=\", v.varValue)"
   ]
  },
  {
   "cell_type": "code",
   "execution_count": 56,
   "metadata": {},
   "outputs": [
    {
     "name": "stdout",
     "output_type": "stream",
     "text": [
      "Beneficio Total = 23625635.700000003\n"
     ]
    }
   ],
   "source": [
    "# Usar directamente `value()` sin prefijo\n",
    "print(\"Beneficio Total =\", value(prob.objective))"
   ]
  }
 ],
 "metadata": {
  "kernelspec": {
   "display_name": "base",
   "language": "python",
   "name": "python3"
  },
  "language_info": {
   "codemirror_mode": {
    "name": "ipython",
    "version": 3
   },
   "file_extension": ".py",
   "mimetype": "text/x-python",
   "name": "python",
   "nbconvert_exporter": "python",
   "pygments_lexer": "ipython3",
   "version": "3.10.9"
  }
 },
 "nbformat": 4,
 "nbformat_minor": 2
}
