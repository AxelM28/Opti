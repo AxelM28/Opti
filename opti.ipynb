{
 "cells": [
  {
   "cell_type": "markdown",
   "metadata": {},
   "source": [
    "# Importar librerías necesarias"
   ]
  },
  {
   "cell_type": "code",
   "execution_count": 79,
   "metadata": {},
   "outputs": [
    {
     "name": "stdout",
     "output_type": "stream",
     "text": [
      "Requirement already satisfied: pulp in c:\\users\\axelm\\anaconda3\\lib\\site-packages (2.8.0)\n",
      "Note: you may need to restart the kernel to use updated packages.\n"
     ]
    }
   ],
   "source": [
    "pip install pulp"
   ]
  },
  {
   "cell_type": "code",
   "execution_count": 80,
   "metadata": {},
   "outputs": [],
   "source": [
    "from pulp import LpStatus, LpProblem, LpVariable, lpSum, LpMaximize, value"
   ]
  },
  {
   "cell_type": "code",
   "execution_count": 81,
   "metadata": {},
   "outputs": [],
   "source": [
    "import random\n",
    "random.seed(7)"
   ]
  },
  {
   "cell_type": "markdown",
   "metadata": {},
   "source": [
    "# Lectura de la base de datos"
   ]
  },
  {
   "cell_type": "markdown",
   "metadata": {},
   "source": [
    "Aún no se cuenta con la base de datos que se utilizarán en el problema original, por lo que se han creado las diferentes variables necesarias con valores de prueba."
   ]
  },
  {
   "cell_type": "markdown",
   "metadata": {},
   "source": [
    "## Definición de conjuntos"
   ]
  },
  {
   "cell_type": "code",
   "execution_count": 82,
   "metadata": {},
   "outputs": [],
   "source": [
    "# Productos\n",
    "productos = ['A', 'B', 'C', 'D', 'E', 'F']"
   ]
  },
  {
   "cell_type": "code",
   "execution_count": 83,
   "metadata": {},
   "outputs": [],
   "source": [
    "# Periodos\n",
    "periodos = ['Enero', 'Febrero', 'Marzo', 'Abril', 'Mayo', 'Junio']"
   ]
  },
  {
   "cell_type": "code",
   "execution_count": 84,
   "metadata": {},
   "outputs": [],
   "source": [
    "# Clientes\n",
    "clientes = ['Cliente1', 'Cliente2']"
   ]
  },
  {
   "cell_type": "code",
   "execution_count": 85,
   "metadata": {},
   "outputs": [],
   "source": [
    "# Plantas\n",
    "plantas = ['Planta1', 'Planta2']"
   ]
  },
  {
   "cell_type": "code",
   "execution_count": 86,
   "metadata": {},
   "outputs": [],
   "source": [
    "# Proveedores\n",
    "proveedores = ['Proveedor1', 'Proveedor2']"
   ]
  },
  {
   "cell_type": "code",
   "execution_count": 87,
   "metadata": {},
   "outputs": [],
   "source": [
    "# Centros de distribución (CEDIS)\n",
    "cedis = ['CEDIS1', 'CEDIS2']"
   ]
  },
  {
   "cell_type": "markdown",
   "metadata": {},
   "source": [
    "## Definición de variables base"
   ]
  },
  {
   "cell_type": "code",
   "execution_count": 88,
   "metadata": {},
   "outputs": [],
   "source": [
    "# Capacidad de almacenamiento: ¿Cuántos productos es posible guardar en cada planta?\n",
    "capacidad_almacenaje = {'Planta1': 1000, 'Planta2': 2000}"
   ]
  },
  {
   "cell_type": "code",
   "execution_count": 89,
   "metadata": {},
   "outputs": [
    {
     "data": {
      "text/plain": [
       "{('A', 'Enero', 'Cliente1'): 831,\n",
       " ('A', 'Enero', 'Cliente2'): 1470,\n",
       " ('A', 'Febrero', 'Cliente1'): 654,\n",
       " ('A', 'Febrero', 'Cliente2'): 904,\n",
       " ('A', 'Marzo', 'Cliente1'): 1166,\n",
       " ('A', 'Marzo', 'Cliente2'): 549,\n",
       " ('A', 'Abril', 'Cliente1'): 574,\n",
       " ('A', 'Abril', 'Cliente2'): 1340,\n",
       " ('A', 'Mayo', 'Cliente1'): 1048,\n",
       " ('A', 'Mayo', 'Cliente2'): 596,\n",
       " ('A', 'Junio', 'Cliente1'): 874,\n",
       " ('A', 'Junio', 'Cliente2'): 1096,\n",
       " ('B', 'Enero', 'Cliente1'): 559,\n",
       " ('B', 'Enero', 'Cliente2'): 1431,\n",
       " ('B', 'Febrero', 'Cliente1'): 1019,\n",
       " ('B', 'Febrero', 'Cliente2'): 719,\n",
       " ('B', 'Marzo', 'Cliente1'): 538,\n",
       " ('B', 'Marzo', 'Cliente2'): 588,\n",
       " ('B', 'Abril', 'Cliente1'): 944,\n",
       " ('B', 'Abril', 'Cliente2'): 928,\n",
       " ('B', 'Mayo', 'Cliente1'): 571,\n",
       " ('B', 'Mayo', 'Cliente2'): 746,\n",
       " ('B', 'Junio', 'Cliente1'): 592,\n",
       " ('B', 'Junio', 'Cliente2'): 1064,\n",
       " ('C', 'Enero', 'Cliente1'): 934,\n",
       " ('C', 'Enero', 'Cliente2'): 560,\n",
       " ('C', 'Febrero', 'Cliente1'): 1346,\n",
       " ('C', 'Febrero', 'Cliente2'): 1079,\n",
       " ('C', 'Marzo', 'Cliente1'): 626,\n",
       " ('C', 'Marzo', 'Cliente2'): 1470,\n",
       " ('C', 'Abril', 'Cliente1'): 728,\n",
       " ('C', 'Abril', 'Cliente2'): 1145,\n",
       " ('C', 'Mayo', 'Cliente1'): 1142,\n",
       " ('C', 'Mayo', 'Cliente2'): 1096,\n",
       " ('C', 'Junio', 'Cliente1'): 1470,\n",
       " ('C', 'Junio', 'Cliente2'): 563,\n",
       " ('D', 'Enero', 'Cliente1'): 1090,\n",
       " ('D', 'Enero', 'Cliente2'): 1099,\n",
       " ('D', 'Febrero', 'Cliente1'): 906,\n",
       " ('D', 'Febrero', 'Cliente2'): 550,\n",
       " ('D', 'Marzo', 'Cliente1'): 1499,\n",
       " ('D', 'Marzo', 'Cliente2'): 726,\n",
       " ('D', 'Abril', 'Cliente1'): 547,\n",
       " ('D', 'Abril', 'Cliente2'): 1070,\n",
       " ('D', 'Mayo', 'Cliente1'): 1379,\n",
       " ('D', 'Mayo', 'Cliente2'): 636,\n",
       " ('D', 'Junio', 'Cliente1'): 796,\n",
       " ('D', 'Junio', 'Cliente2'): 929,\n",
       " ('E', 'Enero', 'Cliente1'): 647,\n",
       " ('E', 'Enero', 'Cliente2'): 1053,\n",
       " ('E', 'Febrero', 'Cliente1'): 620,\n",
       " ('E', 'Febrero', 'Cliente2'): 1084,\n",
       " ('E', 'Marzo', 'Cliente1'): 815,\n",
       " ('E', 'Marzo', 'Cliente2'): 1073,\n",
       " ('E', 'Abril', 'Cliente1'): 1335,\n",
       " ('E', 'Abril', 'Cliente2'): 1198,\n",
       " ('E', 'Mayo', 'Cliente1'): 685,\n",
       " ('E', 'Mayo', 'Cliente2'): 605,\n",
       " ('E', 'Junio', 'Cliente1'): 1095,\n",
       " ('E', 'Junio', 'Cliente2'): 1084,\n",
       " ('F', 'Enero', 'Cliente1'): 1154,\n",
       " ('F', 'Enero', 'Cliente2'): 692,\n",
       " ('F', 'Febrero', 'Cliente1'): 881,\n",
       " ('F', 'Febrero', 'Cliente2'): 599,\n",
       " ('F', 'Marzo', 'Cliente1'): 1060,\n",
       " ('F', 'Marzo', 'Cliente2'): 1229,\n",
       " ('F', 'Abril', 'Cliente1'): 564,\n",
       " ('F', 'Abril', 'Cliente2'): 1077,\n",
       " ('F', 'Mayo', 'Cliente1'): 561,\n",
       " ('F', 'Mayo', 'Cliente2'): 1133,\n",
       " ('F', 'Junio', 'Cliente1'): 710,\n",
       " ('F', 'Junio', 'Cliente2'): 1008}"
      ]
     },
     "execution_count": 89,
     "metadata": {},
     "output_type": "execute_result"
    }
   ],
   "source": [
    "# Demanda por periodo de cada cliente de cada producto.\n",
    "\n",
    "demanda_cliente = {(pr, pe, c): random.randint(500, 1500) for pr in productos for pe in periodos for c in clientes}\n",
    "\n",
    "demanda_cliente"
   ]
  },
  {
   "cell_type": "code",
   "execution_count": 90,
   "metadata": {},
   "outputs": [
    {
     "data": {
      "text/plain": [
       "{'A': 20, 'B': 18, 'C': 16, 'D': 15, 'E': 17, 'F': 19}"
      ]
     },
     "execution_count": 90,
     "metadata": {},
     "output_type": "execute_result"
    }
   ],
   "source": [
    "# Costo de producción: ¿Cuánto cuesta producir cada uno de los productos?\n",
    "\n",
    "costo_produccion = {p: random.randint(10,20) for p in productos}\n",
    "\n",
    "costo_produccion"
   ]
  },
  {
   "cell_type": "code",
   "execution_count": 91,
   "metadata": {},
   "outputs": [
    {
     "data": {
      "text/plain": [
       "{('A', 'Proveedor1'): 19,\n",
       " ('A', 'Proveedor2'): 16,\n",
       " ('B', 'Proveedor1'): 14,\n",
       " ('B', 'Proveedor2'): 12,\n",
       " ('C', 'Proveedor1'): 10,\n",
       " ('C', 'Proveedor2'): 12,\n",
       " ('D', 'Proveedor1'): 7,\n",
       " ('D', 'Proveedor2'): 14,\n",
       " ('E', 'Proveedor1'): 20,\n",
       " ('E', 'Proveedor2'): 15,\n",
       " ('F', 'Proveedor1'): 19,\n",
       " ('F', 'Proveedor2'): 14}"
      ]
     },
     "execution_count": 91,
     "metadata": {},
     "output_type": "execute_result"
    }
   ],
   "source": [
    "# Costo del material: ¿Cuánto cuesta obtener cada uno de los productos con cada uno de los proveedores?\n",
    "\n",
    "costo_material = {(prod, prov): random.randint(5, 20) for prod in productos for prov in proveedores}\n",
    "\n",
    "costo_material"
   ]
  },
  {
   "cell_type": "code",
   "execution_count": 92,
   "metadata": {},
   "outputs": [
    {
     "data": {
      "text/plain": [
       "{('A', 'Enero', 'Proveedor1'): 1747,\n",
       " ('A', 'Enero', 'Proveedor2'): 649,\n",
       " ('A', 'Febrero', 'Proveedor1'): 741,\n",
       " ('A', 'Febrero', 'Proveedor2'): 1548,\n",
       " ('A', 'Marzo', 'Proveedor1'): 1356,\n",
       " ('A', 'Marzo', 'Proveedor2'): 837,\n",
       " ('A', 'Abril', 'Proveedor1'): 1200,\n",
       " ('A', 'Abril', 'Proveedor2'): 811,\n",
       " ('A', 'Mayo', 'Proveedor1'): 1501,\n",
       " ('A', 'Mayo', 'Proveedor2'): 1363,\n",
       " ('A', 'Junio', 'Proveedor1'): 580,\n",
       " ('A', 'Junio', 'Proveedor2'): 1868,\n",
       " ('B', 'Enero', 'Proveedor1'): 658,\n",
       " ('B', 'Enero', 'Proveedor2'): 1642,\n",
       " ('B', 'Febrero', 'Proveedor1'): 1673,\n",
       " ('B', 'Febrero', 'Proveedor2'): 1142,\n",
       " ('B', 'Marzo', 'Proveedor1'): 1196,\n",
       " ('B', 'Marzo', 'Proveedor2'): 1923,\n",
       " ('B', 'Abril', 'Proveedor1'): 1217,\n",
       " ('B', 'Abril', 'Proveedor2'): 1717,\n",
       " ('B', 'Mayo', 'Proveedor1'): 1517,\n",
       " ('B', 'Mayo', 'Proveedor2'): 1687,\n",
       " ('B', 'Junio', 'Proveedor1'): 1434,\n",
       " ('B', 'Junio', 'Proveedor2'): 640,\n",
       " ('C', 'Enero', 'Proveedor1'): 691,\n",
       " ('C', 'Enero', 'Proveedor2'): 1052,\n",
       " ('C', 'Febrero', 'Proveedor1'): 1470,\n",
       " ('C', 'Febrero', 'Proveedor2'): 1927,\n",
       " ('C', 'Marzo', 'Proveedor1'): 1860,\n",
       " ('C', 'Marzo', 'Proveedor2'): 633,\n",
       " ('C', 'Abril', 'Proveedor1'): 624,\n",
       " ('C', 'Abril', 'Proveedor2'): 1997,\n",
       " ('C', 'Mayo', 'Proveedor1'): 1936,\n",
       " ('C', 'Mayo', 'Proveedor2'): 1134,\n",
       " ('C', 'Junio', 'Proveedor1'): 1825,\n",
       " ('C', 'Junio', 'Proveedor2'): 1683,\n",
       " ('D', 'Enero', 'Proveedor1'): 1895,\n",
       " ('D', 'Enero', 'Proveedor2'): 1412,\n",
       " ('D', 'Febrero', 'Proveedor1'): 1082,\n",
       " ('D', 'Febrero', 'Proveedor2'): 1967,\n",
       " ('D', 'Marzo', 'Proveedor1'): 1290,\n",
       " ('D', 'Marzo', 'Proveedor2'): 1869,\n",
       " ('D', 'Abril', 'Proveedor1'): 1210,\n",
       " ('D', 'Abril', 'Proveedor2'): 546,\n",
       " ('D', 'Mayo', 'Proveedor1'): 1445,\n",
       " ('D', 'Mayo', 'Proveedor2'): 1227,\n",
       " ('D', 'Junio', 'Proveedor1'): 844,\n",
       " ('D', 'Junio', 'Proveedor2'): 1751,\n",
       " ('E', 'Enero', 'Proveedor1'): 739,\n",
       " ('E', 'Enero', 'Proveedor2'): 1511,\n",
       " ('E', 'Febrero', 'Proveedor1'): 620,\n",
       " ('E', 'Febrero', 'Proveedor2'): 946,\n",
       " ('E', 'Marzo', 'Proveedor1'): 1088,\n",
       " ('E', 'Marzo', 'Proveedor2'): 764,\n",
       " ('E', 'Abril', 'Proveedor1'): 1007,\n",
       " ('E', 'Abril', 'Proveedor2'): 1314,\n",
       " ('E', 'Mayo', 'Proveedor1'): 1300,\n",
       " ('E', 'Mayo', 'Proveedor2'): 1516,\n",
       " ('E', 'Junio', 'Proveedor1'): 665,\n",
       " ('E', 'Junio', 'Proveedor2'): 840,\n",
       " ('F', 'Enero', 'Proveedor1'): 1419,\n",
       " ('F', 'Enero', 'Proveedor2'): 1322,\n",
       " ('F', 'Febrero', 'Proveedor1'): 1625,\n",
       " ('F', 'Febrero', 'Proveedor2'): 1069,\n",
       " ('F', 'Marzo', 'Proveedor1'): 780,\n",
       " ('F', 'Marzo', 'Proveedor2'): 1381,\n",
       " ('F', 'Abril', 'Proveedor1'): 1626,\n",
       " ('F', 'Abril', 'Proveedor2'): 1070,\n",
       " ('F', 'Mayo', 'Proveedor1'): 1946,\n",
       " ('F', 'Mayo', 'Proveedor2'): 1350,\n",
       " ('F', 'Junio', 'Proveedor1'): 1234,\n",
       " ('F', 'Junio', 'Proveedor2'): 1898}"
      ]
     },
     "execution_count": 92,
     "metadata": {},
     "output_type": "execute_result"
    }
   ],
   "source": [
    "# Capacidad del proveedor: ¿Cuántas unidades de cada producto puede generar cada proveedor en cada periodo?\n",
    "\n",
    "capacidad_proveedor = {(prod, per, prov): random.randint(500, 2000) for prod in productos for per in periodos for prov in proveedores}\n",
    "\n",
    "capacidad_proveedor"
   ]
  },
  {
   "cell_type": "code",
   "execution_count": 93,
   "metadata": {},
   "outputs": [
    {
     "data": {
      "text/plain": [
       "{('A', 'Cliente1'): 48,\n",
       " ('A', 'Cliente2'): 32,\n",
       " ('B', 'Cliente1'): 50,\n",
       " ('B', 'Cliente2'): 27,\n",
       " ('C', 'Cliente1'): 24,\n",
       " ('C', 'Cliente2'): 22,\n",
       " ('D', 'Cliente1'): 25,\n",
       " ('D', 'Cliente2'): 24,\n",
       " ('E', 'Cliente1'): 27,\n",
       " ('E', 'Cliente2'): 41,\n",
       " ('F', 'Cliente1'): 27,\n",
       " ('F', 'Cliente2'): 20}"
      ]
     },
     "execution_count": 93,
     "metadata": {},
     "output_type": "execute_result"
    }
   ],
   "source": [
    "# Ingreso por venta: ¿Cuánto paga cada cliente por cada uno de los productos?\n",
    "\n",
    "ingreso_venta = {(p, c): random.randint(20, 50) for p in productos for c in clientes}\n",
    "\n",
    "ingreso_venta"
   ]
  },
  {
   "cell_type": "code",
   "execution_count": 94,
   "metadata": {},
   "outputs": [
    {
     "data": {
      "text/plain": [
       "{'A': 8, 'B': 3, 'C': 5, 'D': 5, 'E': 1, 'F': 3}"
      ]
     },
     "execution_count": 94,
     "metadata": {},
     "output_type": "execute_result"
    }
   ],
   "source": [
    "# Costo de mantenimiento: ¿Cuánto cuesta mantener cada uno de los productos dentro del inventario?\n",
    "\n",
    "costo_mantenimiento = {p: random.randint(1, 8) for p in productos}\n",
    "\n",
    "costo_mantenimiento"
   ]
  },
  {
   "cell_type": "code",
   "execution_count": 95,
   "metadata": {},
   "outputs": [],
   "source": [
    "# Costo de mano de obra en tiempo de jornada regular y en horas extra.\n",
    "\n",
    "costo_mano_obra = 15\n",
    "costo_mano_obra_extra = 25"
   ]
  },
  {
   "cell_type": "code",
   "execution_count": 96,
   "metadata": {},
   "outputs": [
    {
     "data": {
      "text/plain": [
       "{('A', 'Planta1'): 128,\n",
       " ('A', 'Planta2'): 143,\n",
       " ('B', 'Planta1'): 122,\n",
       " ('B', 'Planta2'): 153,\n",
       " ('C', 'Planta1'): 147,\n",
       " ('C', 'Planta2'): 115,\n",
       " ('D', 'Planta1'): 196,\n",
       " ('D', 'Planta2'): 91,\n",
       " ('E', 'Planta1'): 163,\n",
       " ('E', 'Planta2'): 184,\n",
       " ('F', 'Planta1'): 140,\n",
       " ('F', 'Planta2'): 196}"
      ]
     },
     "execution_count": 96,
     "metadata": {},
     "output_type": "execute_result"
    }
   ],
   "source": [
    "# Inventario inicial: ¿Cuántas unidades se tienen al inicio de cada periodo?\n",
    "\n",
    "inventario_inicial = {(pr, pl): random.randint(75, 200) for pr in productos for pl in plantas}\n",
    "\n",
    "inventario_inicial"
   ]
  },
  {
   "cell_type": "code",
   "execution_count": 97,
   "metadata": {},
   "outputs": [
    {
     "data": {
      "text/plain": [
       "{'A': 10, 'B': 1, 'C': 8, 'D': 9, 'E': 7, 'F': 7}"
      ]
     },
     "execution_count": 97,
     "metadata": {},
     "output_type": "execute_result"
    }
   ],
   "source": [
    "# Horas por unidad: Tiempo requerido por unidad para cada producto\n",
    "\n",
    "horas_por_unidad = {p: random.randint(1, 10) for p in productos}\n",
    "\n",
    "horas_por_unidad"
   ]
  },
  {
   "cell_type": "code",
   "execution_count": 98,
   "metadata": {},
   "outputs": [],
   "source": [
    "#Horas de trabajo máximo: Tiempo máximo que se puede dedicar a la producción.\n",
    "\n",
    "horas_trabajo_max = 1000"
   ]
  },
  {
   "cell_type": "markdown",
   "metadata": {},
   "source": [
    "# Definición del problema"
   ]
  },
  {
   "cell_type": "markdown",
   "metadata": {},
   "source": [
    "## Definición de las variables de decisión\n",
    "\n",
    "Aquellas que se tomarán en cuenta a lo largo de la resolución del problema y que surgen de la manipulación de las variables base."
   ]
  },
  {
   "cell_type": "code",
   "execution_count": 99,
   "metadata": {},
   "outputs": [],
   "source": [
    "# Variables de decisión\n",
    "\n",
    "x_vars = LpVariable.dicts(\"Produccion\", [(p, t, l) for p in productos for t in periodos for l in plantas], lowBound=0, cat='Continuous')\n",
    "y_vars = LpVariable.dicts(\"Venta\", [(p, t, c) for p in productos for t in periodos for c in clientes], lowBound=0, cat='Continuous')\n",
    "m_vars = LpVariable.dicts(\"Material_Comprado\", [(p, t, q) for p in productos for t in periodos for q in proveedores], lowBound=0, cat='Continuous')\n",
    "w_vars = LpVariable.dicts(\"Adquisicion_CEDIS\", [(p, t, w) for p in productos for t in periodos for w in cedis], lowBound=0, cat='Continuous')\n",
    "i_vars = LpVariable.dicts(\"Inventario\", [(p, t, l) for p in productos for t in periodos for l in plantas], lowBound=0, cat='Continuous')"
   ]
  },
  {
   "cell_type": "markdown",
   "metadata": {},
   "source": [
    "## Definición de la función objetivo:\n",
    "\n",
    "En este caso, maximizar las ganancias. Esto se obtendrá restando el costo de mantenimiento y el costo de producción a las ganancias obtenidas por cada producto."
   ]
  },
  {
   "cell_type": "code",
   "execution_count": 102,
   "metadata": {},
   "outputs": [],
   "source": [
    "# Crear el problema de maximización\n",
    "\n",
    "prob = LpProblem(\"Maximizar_Ganancias\", LpMaximize)"
   ]
  },
  {
   "cell_type": "code",
   "execution_count": 103,
   "metadata": {},
   "outputs": [],
   "source": [
    "# Se define la función objetivo\n",
    "\n",
    "prob += (lpSum([ingreso_venta.get((p, c), 0) * y_vars[p, t, c] for p in productos for t in periodos for c in clientes]) -\n",
    "         lpSum([costo_produccion.get((p, l), 0) * x_vars[p, t, l] for p in productos for t in periodos for l in plantas]) -\n",
    "         lpSum([costo_mantenimiento.get((p, w), 0) * w_vars[p, t, w] for p in productos for t in periodos for w in cedis]),\n",
    "         \"Beneficio_Total\")"
   ]
  },
  {
   "cell_type": "markdown",
   "metadata": {},
   "source": [
    "## Definición de las restricciones:\n",
    "\n",
    "Tales como restricciones de demanda, de capacidad, de almacenamiento y de inventario."
   ]
  },
  {
   "cell_type": "code",
   "execution_count": 104,
   "metadata": {},
   "outputs": [],
   "source": [
    "# Tipo de restricción: Capacidad del proveedor\n",
    "# Descripción: Limita la cantidad de materiales que un proveedor puede suministrar para un producto en un período de tiempo dado.\n",
    "# Comentario: Controla la capacidad de los proveedores y evita la saturación.\n",
    "\n",
    "for p in productos:\n",
    "    for t in periodos:\n",
    "        for q in proveedores:\n",
    "            capacidad = capacidad_proveedor.get((p, t, q), 0)  # Valor por defecto en caso de no encontrar la clave\n",
    "            prob += lpSum([m_vars[(p, t, q)]]) <= capacidad, f\"Capacidad_proveedor_{p}_{t}_{q}\"\n",
    "\n",
    "\n",
    "# Tipo de restricción: Balance de inventario\n",
    "# Descripción: Asegura que el inventario final sea igual al inventario inicial más la producción menos las ventas.\n",
    "# Comentario: Se utiliza para mantener un balance correcto del inventario.\n",
    "\n",
    "for p in productos:\n",
    "    for t in periodos:\n",
    "        for l in plantas:\n",
    "            # Asumiendo que `inventario_inicial` es un diccionario que contiene el inventario inicial por producto y planta\n",
    "            inventario_inicio = inventario_inicial.get((p, l), 0)\n",
    "            prob += (inventario_inicio + lpSum([x_vars[(p, t, l)]])) - lpSum([y_vars[(p, t, c)] for c in clientes]) == i_vars[(p, t, l)], f\"Inventario_final_{p}_{t}_{l}\"\n",
    "\n",
    "\n",
    "# Tipo de restricción: Capacidad de producción\n",
    "# Descripción: Limita la producción para no exceder la capacidad de almacenamiento de la planta.\n",
    "# Comentario: Ayuda a evitar la sobrecarga de las instalaciones de producción.\n",
    "\n",
    "for p in productos:\n",
    "    for t in periodos:\n",
    "        for l in plantas:\n",
    "            prob += lpSum([x_vars[(p, t, l)]]) <= capacidad_almacenaje[l], f\"Capacidad_produccion_{p}_{t}_{l}\"\n",
    "\n",
    "\n",
    "# Tipo de restricción: Uso máximo de materiales\n",
    "# Descripción: Limita la cantidad de materiales que se pueden comprar de un proveedor a la cantidad de materiales necesarios para la producción planificada.\n",
    "# Comentario: Evita el exceso de compra de materiales.\n",
    "\n",
    "for p in productos:\n",
    "    for t in periodos:\n",
    "        for q in proveedores:\n",
    "            prob += m_vars[(p, t, q)] <= lpSum([x_vars[(p, t, l)] for l in plantas]), f\"Material_uso_maximo_{p}_{t}_{q}\"\n",
    "\n",
    "\n",
    "# Tipo de restricción: Cumplimiento de demanda mínima\n",
    "# Descripción: Asegura que al menos se satisfaga una cierta cantidad de la demanda del cliente.\n",
    "# Comentario: Garantiza la satisfacción mínima de los clientes.\n",
    "\n",
    "for p in productos:\n",
    "    for t in periodos:\n",
    "        for c in clientes:\n",
    "            demanda_min = demanda_cliente.get((p, t, c), 0) * 0.9  # Por ejemplo, al menos el 90%\n",
    "            prob += lpSum([y_vars[(p, t, c)]]) >= demanda_min, f\"Cumplimiento_demanda_minima_{p}_{t}_{c}\"\n",
    "\n",
    "\n",
    "# Tipo de restricción: Horas de trabajo máximas\n",
    "# Descripción: Limita las horas de trabajo para no exceder un máximo establecido.\n",
    "# Comentario: Controla la carga laboral y el tiempo de producción.\n",
    "\n",
    "for p in productos:\n",
    "    for t in periodos:\n",
    "        for l in plantas:\n",
    "            prob += (lpSum([x_vars[(p, t, l)] * horas_por_unidad[p]]) <= horas_trabajo_max), f\"Horas_trabajo_{p}_{t}_{l}\""
   ]
  },
  {
   "cell_type": "markdown",
   "metadata": {},
   "source": [
    "# Resolución del problema"
   ]
  },
  {
   "cell_type": "code",
   "execution_count": 105,
   "metadata": {},
   "outputs": [
    {
     "data": {
      "text/plain": [
       "-1"
      ]
     },
     "execution_count": 105,
     "metadata": {},
     "output_type": "execute_result"
    }
   ],
   "source": [
    "# Resolver el problema\n",
    "prob.solve()"
   ]
  },
  {
   "cell_type": "code",
   "execution_count": 106,
   "metadata": {},
   "outputs": [
    {
     "name": "stdout",
     "output_type": "stream",
     "text": [
      "Infeasible\n"
     ]
    }
   ],
   "source": [
    "# Imprimir el estado de la solución\n",
    "print(LpStatus[prob.status])"
   ]
  },
  {
   "cell_type": "code",
   "execution_count": 107,
   "metadata": {},
   "outputs": [
    {
     "name": "stdout",
     "output_type": "stream",
     "text": [
      "Inventario_('A',_'Abril',_'Planta1') = 0.0\n",
      "Inventario_('A',_'Abril',_'Planta2') = 0.0\n",
      "Inventario_('A',_'Enero',_'Planta1') = 0.0\n",
      "Inventario_('A',_'Enero',_'Planta2') = 0.0\n",
      "Inventario_('A',_'Febrero',_'Planta1') = 0.0\n",
      "Inventario_('A',_'Febrero',_'Planta2') = 0.0\n",
      "Inventario_('A',_'Junio',_'Planta1') = 0.0\n",
      "Inventario_('A',_'Junio',_'Planta2') = 0.0\n",
      "Inventario_('A',_'Marzo',_'Planta1') = 0.0\n",
      "Inventario_('A',_'Marzo',_'Planta2') = 0.0\n",
      "Inventario_('A',_'Mayo',_'Planta1') = 0.0\n",
      "Inventario_('A',_'Mayo',_'Planta2') = 0.0\n",
      "Inventario_('B',_'Abril',_'Planta1') = 0.0\n",
      "Inventario_('B',_'Abril',_'Planta2') = 0.0\n",
      "Inventario_('B',_'Enero',_'Planta1') = 0.0\n",
      "Inventario_('B',_'Enero',_'Planta2') = 0.0\n",
      "Inventario_('B',_'Febrero',_'Planta1') = 0.0\n",
      "Inventario_('B',_'Febrero',_'Planta2') = 0.0\n",
      "Inventario_('B',_'Junio',_'Planta1') = 0.0\n",
      "Inventario_('B',_'Junio',_'Planta2') = 0.0\n",
      "Inventario_('B',_'Marzo',_'Planta1') = 0.0\n",
      "Inventario_('B',_'Marzo',_'Planta2') = 0.0\n",
      "Inventario_('B',_'Mayo',_'Planta1') = 0.0\n",
      "Inventario_('B',_'Mayo',_'Planta2') = 0.0\n",
      "Inventario_('C',_'Abril',_'Planta1') = 0.0\n",
      "Inventario_('C',_'Abril',_'Planta2') = 0.0\n",
      "Inventario_('C',_'Enero',_'Planta1') = 0.0\n",
      "Inventario_('C',_'Enero',_'Planta2') = 0.0\n",
      "Inventario_('C',_'Febrero',_'Planta1') = 0.0\n",
      "Inventario_('C',_'Febrero',_'Planta2') = 0.0\n",
      "Inventario_('C',_'Junio',_'Planta1') = 0.0\n",
      "Inventario_('C',_'Junio',_'Planta2') = 0.0\n",
      "Inventario_('C',_'Marzo',_'Planta1') = 0.0\n",
      "Inventario_('C',_'Marzo',_'Planta2') = 0.0\n",
      "Inventario_('C',_'Mayo',_'Planta1') = 0.0\n",
      "Inventario_('C',_'Mayo',_'Planta2') = 0.0\n",
      "Inventario_('D',_'Abril',_'Planta1') = 0.0\n",
      "Inventario_('D',_'Abril',_'Planta2') = 0.0\n",
      "Inventario_('D',_'Enero',_'Planta1') = 0.0\n",
      "Inventario_('D',_'Enero',_'Planta2') = 0.0\n",
      "Inventario_('D',_'Febrero',_'Planta1') = 0.0\n",
      "Inventario_('D',_'Febrero',_'Planta2') = 0.0\n",
      "Inventario_('D',_'Junio',_'Planta1') = 0.0\n",
      "Inventario_('D',_'Junio',_'Planta2') = 0.0\n",
      "Inventario_('D',_'Marzo',_'Planta1') = 0.0\n",
      "Inventario_('D',_'Marzo',_'Planta2') = 0.0\n",
      "Inventario_('D',_'Mayo',_'Planta1') = 0.0\n",
      "Inventario_('D',_'Mayo',_'Planta2') = 0.0\n",
      "Inventario_('E',_'Abril',_'Planta1') = 0.0\n",
      "Inventario_('E',_'Abril',_'Planta2') = 0.0\n",
      "Inventario_('E',_'Enero',_'Planta1') = 0.0\n",
      "Inventario_('E',_'Enero',_'Planta2') = 0.0\n",
      "Inventario_('E',_'Febrero',_'Planta1') = 0.0\n",
      "Inventario_('E',_'Febrero',_'Planta2') = 0.0\n",
      "Inventario_('E',_'Junio',_'Planta1') = 0.0\n",
      "Inventario_('E',_'Junio',_'Planta2') = 0.0\n",
      "Inventario_('E',_'Marzo',_'Planta1') = 0.0\n",
      "Inventario_('E',_'Marzo',_'Planta2') = 0.0\n",
      "Inventario_('E',_'Mayo',_'Planta1') = 0.0\n",
      "Inventario_('E',_'Mayo',_'Planta2') = 0.0\n",
      "Inventario_('F',_'Abril',_'Planta1') = 0.0\n",
      "Inventario_('F',_'Abril',_'Planta2') = 0.0\n",
      "Inventario_('F',_'Enero',_'Planta1') = 0.0\n",
      "Inventario_('F',_'Enero',_'Planta2') = 0.0\n",
      "Inventario_('F',_'Febrero',_'Planta1') = 0.0\n",
      "Inventario_('F',_'Febrero',_'Planta2') = 0.0\n",
      "Inventario_('F',_'Junio',_'Planta1') = 0.0\n",
      "Inventario_('F',_'Junio',_'Planta2') = 0.0\n",
      "Inventario_('F',_'Marzo',_'Planta1') = 0.0\n",
      "Inventario_('F',_'Marzo',_'Planta2') = 0.0\n",
      "Inventario_('F',_'Mayo',_'Planta1') = 0.0\n",
      "Inventario_('F',_'Mayo',_'Planta2') = 0.0\n",
      "Material_Comprado_('A',_'Abril',_'Proveedor1') = 0.0\n",
      "Material_Comprado_('A',_'Abril',_'Proveedor2') = 0.0\n",
      "Material_Comprado_('A',_'Enero',_'Proveedor1') = 0.0\n",
      "Material_Comprado_('A',_'Enero',_'Proveedor2') = 0.0\n",
      "Material_Comprado_('A',_'Febrero',_'Proveedor1') = 0.0\n",
      "Material_Comprado_('A',_'Febrero',_'Proveedor2') = 0.0\n",
      "Material_Comprado_('A',_'Junio',_'Proveedor1') = 0.0\n",
      "Material_Comprado_('A',_'Junio',_'Proveedor2') = 0.0\n",
      "Material_Comprado_('A',_'Marzo',_'Proveedor1') = 0.0\n",
      "Material_Comprado_('A',_'Marzo',_'Proveedor2') = 0.0\n",
      "Material_Comprado_('A',_'Mayo',_'Proveedor1') = 0.0\n",
      "Material_Comprado_('A',_'Mayo',_'Proveedor2') = 0.0\n",
      "Material_Comprado_('B',_'Abril',_'Proveedor1') = 0.0\n",
      "Material_Comprado_('B',_'Abril',_'Proveedor2') = 0.0\n",
      "Material_Comprado_('B',_'Enero',_'Proveedor1') = 0.0\n",
      "Material_Comprado_('B',_'Enero',_'Proveedor2') = 0.0\n",
      "Material_Comprado_('B',_'Febrero',_'Proveedor1') = 0.0\n",
      "Material_Comprado_('B',_'Febrero',_'Proveedor2') = 0.0\n",
      "Material_Comprado_('B',_'Junio',_'Proveedor1') = 0.0\n",
      "Material_Comprado_('B',_'Junio',_'Proveedor2') = 0.0\n",
      "Material_Comprado_('B',_'Marzo',_'Proveedor1') = 0.0\n",
      "Material_Comprado_('B',_'Marzo',_'Proveedor2') = 0.0\n",
      "Material_Comprado_('B',_'Mayo',_'Proveedor1') = 0.0\n",
      "Material_Comprado_('B',_'Mayo',_'Proveedor2') = 0.0\n",
      "Material_Comprado_('C',_'Abril',_'Proveedor1') = 0.0\n",
      "Material_Comprado_('C',_'Abril',_'Proveedor2') = 0.0\n",
      "Material_Comprado_('C',_'Enero',_'Proveedor1') = 0.0\n",
      "Material_Comprado_('C',_'Enero',_'Proveedor2') = 0.0\n",
      "Material_Comprado_('C',_'Febrero',_'Proveedor1') = 0.0\n",
      "Material_Comprado_('C',_'Febrero',_'Proveedor2') = 0.0\n",
      "Material_Comprado_('C',_'Junio',_'Proveedor1') = 0.0\n",
      "Material_Comprado_('C',_'Junio',_'Proveedor2') = 0.0\n",
      "Material_Comprado_('C',_'Marzo',_'Proveedor1') = 0.0\n",
      "Material_Comprado_('C',_'Marzo',_'Proveedor2') = 0.0\n",
      "Material_Comprado_('C',_'Mayo',_'Proveedor1') = 0.0\n",
      "Material_Comprado_('C',_'Mayo',_'Proveedor2') = 0.0\n",
      "Material_Comprado_('D',_'Abril',_'Proveedor1') = 0.0\n",
      "Material_Comprado_('D',_'Abril',_'Proveedor2') = 0.0\n",
      "Material_Comprado_('D',_'Enero',_'Proveedor1') = 0.0\n",
      "Material_Comprado_('D',_'Enero',_'Proveedor2') = 0.0\n",
      "Material_Comprado_('D',_'Febrero',_'Proveedor1') = 0.0\n",
      "Material_Comprado_('D',_'Febrero',_'Proveedor2') = 0.0\n",
      "Material_Comprado_('D',_'Junio',_'Proveedor1') = 0.0\n",
      "Material_Comprado_('D',_'Junio',_'Proveedor2') = 0.0\n",
      "Material_Comprado_('D',_'Marzo',_'Proveedor1') = 0.0\n",
      "Material_Comprado_('D',_'Marzo',_'Proveedor2') = 0.0\n",
      "Material_Comprado_('D',_'Mayo',_'Proveedor1') = 0.0\n",
      "Material_Comprado_('D',_'Mayo',_'Proveedor2') = 0.0\n",
      "Material_Comprado_('E',_'Abril',_'Proveedor1') = 0.0\n",
      "Material_Comprado_('E',_'Abril',_'Proveedor2') = 0.0\n",
      "Material_Comprado_('E',_'Enero',_'Proveedor1') = 0.0\n",
      "Material_Comprado_('E',_'Enero',_'Proveedor2') = 0.0\n",
      "Material_Comprado_('E',_'Febrero',_'Proveedor1') = 0.0\n",
      "Material_Comprado_('E',_'Febrero',_'Proveedor2') = 0.0\n",
      "Material_Comprado_('E',_'Junio',_'Proveedor1') = 0.0\n",
      "Material_Comprado_('E',_'Junio',_'Proveedor2') = 0.0\n",
      "Material_Comprado_('E',_'Marzo',_'Proveedor1') = 0.0\n",
      "Material_Comprado_('E',_'Marzo',_'Proveedor2') = 0.0\n",
      "Material_Comprado_('E',_'Mayo',_'Proveedor1') = 0.0\n",
      "Material_Comprado_('E',_'Mayo',_'Proveedor2') = 0.0\n",
      "Material_Comprado_('F',_'Abril',_'Proveedor1') = 0.0\n",
      "Material_Comprado_('F',_'Abril',_'Proveedor2') = 0.0\n",
      "Material_Comprado_('F',_'Enero',_'Proveedor1') = 0.0\n",
      "Material_Comprado_('F',_'Enero',_'Proveedor2') = 0.0\n",
      "Material_Comprado_('F',_'Febrero',_'Proveedor1') = 0.0\n",
      "Material_Comprado_('F',_'Febrero',_'Proveedor2') = 0.0\n",
      "Material_Comprado_('F',_'Junio',_'Proveedor1') = 0.0\n",
      "Material_Comprado_('F',_'Junio',_'Proveedor2') = 0.0\n",
      "Material_Comprado_('F',_'Marzo',_'Proveedor1') = 0.0\n",
      "Material_Comprado_('F',_'Marzo',_'Proveedor2') = 0.0\n",
      "Material_Comprado_('F',_'Mayo',_'Proveedor1') = 0.0\n",
      "Material_Comprado_('F',_'Mayo',_'Proveedor2') = 0.0\n",
      "Produccion_('A',_'Abril',_'Planta1') = 115.0\n",
      "Produccion_('A',_'Abril',_'Planta2') = 100.0\n",
      "Produccion_('A',_'Enero',_'Planta1') = 115.0\n",
      "Produccion_('A',_'Enero',_'Planta2') = 100.0\n",
      "Produccion_('A',_'Febrero',_'Planta1') = 115.0\n",
      "Produccion_('A',_'Febrero',_'Planta2') = 100.0\n",
      "Produccion_('A',_'Junio',_'Planta1') = 115.0\n",
      "Produccion_('A',_'Junio',_'Planta2') = 100.0\n",
      "Produccion_('A',_'Marzo',_'Planta1') = 115.0\n",
      "Produccion_('A',_'Marzo',_'Planta2') = 100.0\n",
      "Produccion_('A',_'Mayo',_'Planta1') = 115.0\n",
      "Produccion_('A',_'Mayo',_'Planta2') = 100.0\n",
      "Produccion_('B',_'Abril',_'Planta1') = 1000.0\n",
      "Produccion_('B',_'Abril',_'Planta2') = 969.0\n",
      "Produccion_('B',_'Enero',_'Planta1') = 1000.0\n",
      "Produccion_('B',_'Enero',_'Planta2') = 969.0\n",
      "Produccion_('B',_'Febrero',_'Planta1') = 1000.0\n",
      "Produccion_('B',_'Febrero',_'Planta2') = 969.0\n",
      "Produccion_('B',_'Junio',_'Planta1') = 1000.0\n",
      "Produccion_('B',_'Junio',_'Planta2') = 969.0\n",
      "Produccion_('B',_'Marzo',_'Planta1') = 1000.0\n",
      "Produccion_('B',_'Marzo',_'Planta2') = 969.0\n",
      "Produccion_('B',_'Mayo',_'Planta1') = 1000.0\n",
      "Produccion_('B',_'Mayo',_'Planta2') = 969.0\n",
      "Produccion_('C',_'Abril',_'Planta1') = 125.0\n",
      "Produccion_('C',_'Abril',_'Planta2') = 157.0\n",
      "Produccion_('C',_'Enero',_'Planta1') = 125.0\n",
      "Produccion_('C',_'Enero',_'Planta2') = 157.0\n",
      "Produccion_('C',_'Febrero',_'Planta1') = 125.0\n",
      "Produccion_('C',_'Febrero',_'Planta2') = 157.0\n",
      "Produccion_('C',_'Junio',_'Planta1') = 125.0\n",
      "Produccion_('C',_'Junio',_'Planta2') = 157.0\n",
      "Produccion_('C',_'Marzo',_'Planta1') = 125.0\n",
      "Produccion_('C',_'Marzo',_'Planta2') = 157.0\n",
      "Produccion_('C',_'Mayo',_'Planta1') = 125.0\n",
      "Produccion_('C',_'Mayo',_'Planta2') = 157.0\n",
      "Produccion_('D',_'Abril',_'Planta1') = 111.11111\n",
      "Produccion_('D',_'Abril',_'Planta2') = 216.11111\n",
      "Produccion_('D',_'Enero',_'Planta1') = 111.11111\n",
      "Produccion_('D',_'Enero',_'Planta2') = 216.11111\n",
      "Produccion_('D',_'Febrero',_'Planta1') = 111.11111\n",
      "Produccion_('D',_'Febrero',_'Planta2') = 216.11111\n",
      "Produccion_('D',_'Junio',_'Planta1') = 111.11111\n",
      "Produccion_('D',_'Junio',_'Planta2') = 216.11111\n",
      "Produccion_('D',_'Marzo',_'Planta1') = 111.11111\n",
      "Produccion_('D',_'Marzo',_'Planta2') = 216.11111\n",
      "Produccion_('D',_'Mayo',_'Planta1') = 111.11111\n",
      "Produccion_('D',_'Mayo',_'Planta2') = 216.11111\n",
      "Produccion_('E',_'Abril',_'Planta1') = 163.85714\n",
      "Produccion_('E',_'Abril',_'Planta2') = 142.85714\n",
      "Produccion_('E',_'Enero',_'Planta1') = 163.85714\n",
      "Produccion_('E',_'Enero',_'Planta2') = 142.85714\n",
      "Produccion_('E',_'Febrero',_'Planta1') = 163.85714\n",
      "Produccion_('E',_'Febrero',_'Planta2') = 142.85714\n",
      "Produccion_('E',_'Junio',_'Planta1') = 163.85714\n",
      "Produccion_('E',_'Junio',_'Planta2') = 142.85714\n",
      "Produccion_('E',_'Marzo',_'Planta1') = 163.85714\n",
      "Produccion_('E',_'Marzo',_'Planta2') = 142.85714\n",
      "Produccion_('E',_'Mayo',_'Planta1') = 163.85714\n",
      "Produccion_('E',_'Mayo',_'Planta2') = 142.85714\n",
      "Produccion_('F',_'Abril',_'Planta1') = 198.85714\n",
      "Produccion_('F',_'Abril',_'Planta2') = 142.85714\n",
      "Produccion_('F',_'Enero',_'Planta1') = 198.85714\n",
      "Produccion_('F',_'Enero',_'Planta2') = 142.85714\n",
      "Produccion_('F',_'Febrero',_'Planta1') = 198.85714\n",
      "Produccion_('F',_'Febrero',_'Planta2') = 142.85714\n",
      "Produccion_('F',_'Junio',_'Planta1') = 198.85714\n",
      "Produccion_('F',_'Junio',_'Planta2') = 142.85714\n",
      "Produccion_('F',_'Marzo',_'Planta1') = 198.85714\n",
      "Produccion_('F',_'Marzo',_'Planta2') = 142.85714\n",
      "Produccion_('F',_'Mayo',_'Planta1') = 198.85714\n",
      "Produccion_('F',_'Mayo',_'Planta2') = 142.85714\n",
      "Venta_('A',_'Abril',_'Cliente1') = 243.0\n",
      "Venta_('A',_'Abril',_'Cliente2') = 0.0\n",
      "Venta_('A',_'Enero',_'Cliente1') = 243.0\n",
      "Venta_('A',_'Enero',_'Cliente2') = 0.0\n",
      "Venta_('A',_'Febrero',_'Cliente1') = 243.0\n",
      "Venta_('A',_'Febrero',_'Cliente2') = 0.0\n",
      "Venta_('A',_'Junio',_'Cliente1') = 243.0\n",
      "Venta_('A',_'Junio',_'Cliente2') = 0.0\n",
      "Venta_('A',_'Marzo',_'Cliente1') = 243.0\n",
      "Venta_('A',_'Marzo',_'Cliente2') = 0.0\n",
      "Venta_('A',_'Mayo',_'Cliente1') = 243.0\n",
      "Venta_('A',_'Mayo',_'Cliente2') = 0.0\n",
      "Venta_('B',_'Abril',_'Cliente1') = 849.6\n",
      "Venta_('B',_'Abril',_'Cliente2') = 272.4\n",
      "Venta_('B',_'Enero',_'Cliente1') = 503.1\n",
      "Venta_('B',_'Enero',_'Cliente2') = 618.9\n",
      "Venta_('B',_'Febrero',_'Cliente1') = 917.1\n",
      "Venta_('B',_'Febrero',_'Cliente2') = 204.9\n",
      "Venta_('B',_'Junio',_'Cliente1') = 532.8\n",
      "Venta_('B',_'Junio',_'Cliente2') = 589.2\n",
      "Venta_('B',_'Marzo',_'Cliente1') = 592.8\n",
      "Venta_('B',_'Marzo',_'Cliente2') = 529.2\n",
      "Venta_('B',_'Mayo',_'Cliente1') = 513.9\n",
      "Venta_('B',_'Mayo',_'Cliente2') = 608.1\n",
      "Venta_('C',_'Abril',_'Cliente1') = 272.0\n",
      "Venta_('C',_'Abril',_'Cliente2') = 0.0\n",
      "Venta_('C',_'Enero',_'Cliente1') = 272.0\n",
      "Venta_('C',_'Enero',_'Cliente2') = 0.0\n",
      "Venta_('C',_'Febrero',_'Cliente1') = 272.0\n",
      "Venta_('C',_'Febrero',_'Cliente2') = 0.0\n",
      "Venta_('C',_'Junio',_'Cliente1') = 272.0\n",
      "Venta_('C',_'Junio',_'Cliente2') = 0.0\n",
      "Venta_('C',_'Marzo',_'Cliente1') = 272.0\n",
      "Venta_('C',_'Marzo',_'Cliente2') = 0.0\n",
      "Venta_('C',_'Mayo',_'Cliente1') = 272.0\n",
      "Venta_('C',_'Mayo',_'Cliente2') = 0.0\n",
      "Venta_('D',_'Abril',_'Cliente1') = 307.11111\n",
      "Venta_('D',_'Abril',_'Cliente2') = 0.0\n",
      "Venta_('D',_'Enero',_'Cliente1') = 307.11111\n",
      "Venta_('D',_'Enero',_'Cliente2') = 0.0\n",
      "Venta_('D',_'Febrero',_'Cliente1') = 307.11111\n",
      "Venta_('D',_'Febrero',_'Cliente2') = 0.0\n",
      "Venta_('D',_'Junio',_'Cliente1') = 307.11111\n",
      "Venta_('D',_'Junio',_'Cliente2') = 0.0\n",
      "Venta_('D',_'Marzo',_'Cliente1') = 307.11111\n",
      "Venta_('D',_'Marzo',_'Cliente2') = 0.0\n",
      "Venta_('D',_'Mayo',_'Cliente1') = 307.11111\n",
      "Venta_('D',_'Mayo',_'Cliente2') = 0.0\n",
      "Venta_('E',_'Abril',_'Cliente1') = 0.0\n",
      "Venta_('E',_'Abril',_'Cliente2') = 326.85714\n",
      "Venta_('E',_'Enero',_'Cliente1') = 0.0\n",
      "Venta_('E',_'Enero',_'Cliente2') = 326.85714\n",
      "Venta_('E',_'Febrero',_'Cliente1') = 0.0\n",
      "Venta_('E',_'Febrero',_'Cliente2') = 326.85714\n",
      "Venta_('E',_'Junio',_'Cliente1') = 0.0\n",
      "Venta_('E',_'Junio',_'Cliente2') = 326.85714\n",
      "Venta_('E',_'Marzo',_'Cliente1') = 0.0\n",
      "Venta_('E',_'Marzo',_'Cliente2') = 326.85714\n",
      "Venta_('E',_'Mayo',_'Cliente1') = 0.0\n",
      "Venta_('E',_'Mayo',_'Cliente2') = 326.85714\n",
      "Venta_('F',_'Abril',_'Cliente1') = 338.85714\n",
      "Venta_('F',_'Abril',_'Cliente2') = 0.0\n",
      "Venta_('F',_'Enero',_'Cliente1') = 338.85714\n",
      "Venta_('F',_'Enero',_'Cliente2') = 0.0\n",
      "Venta_('F',_'Febrero',_'Cliente1') = 338.85714\n",
      "Venta_('F',_'Febrero',_'Cliente2') = 0.0\n",
      "Venta_('F',_'Junio',_'Cliente1') = 338.85714\n",
      "Venta_('F',_'Junio',_'Cliente2') = 0.0\n",
      "Venta_('F',_'Marzo',_'Cliente1') = 338.85714\n",
      "Venta_('F',_'Marzo',_'Cliente2') = 0.0\n",
      "Venta_('F',_'Mayo',_'Cliente1') = 338.85714\n",
      "Venta_('F',_'Mayo',_'Cliente2') = 0.0\n"
     ]
    }
   ],
   "source": [
    "# Imprimir los valores de las variables de decisión\n",
    "for v in prob.variables():\n",
    "    print(v.name, \"=\", v.varValue)"
   ]
  },
  {
   "cell_type": "code",
   "execution_count": 108,
   "metadata": {},
   "outputs": [
    {
     "name": "stdout",
     "output_type": "stream",
     "text": [
      "Beneficio Total = 562198.2796199999\n"
     ]
    }
   ],
   "source": [
    "# Usar directamente `value()` sin prefijo\n",
    "print(\"Beneficio Total =\", value(prob.objective))"
   ]
  }
 ],
 "metadata": {
  "kernelspec": {
   "display_name": "base",
   "language": "python",
   "name": "python3"
  },
  "language_info": {
   "codemirror_mode": {
    "name": "ipython",
    "version": 3
   },
   "file_extension": ".py",
   "mimetype": "text/x-python",
   "name": "python",
   "nbconvert_exporter": "python",
   "pygments_lexer": "ipython3",
   "version": "3.10.9"
  }
 },
 "nbformat": 4,
 "nbformat_minor": 2
}
